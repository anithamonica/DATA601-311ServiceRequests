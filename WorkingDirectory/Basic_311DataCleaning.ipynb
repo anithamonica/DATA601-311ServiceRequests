{
 "cells": [
  {
   "cell_type": "markdown",
   "id": "0d80ef09-3d05-4a55-9b66-f902ee67bd97",
   "metadata": {},
   "source": [
    "# Data Cleaning"
   ]
  },
  {
   "cell_type": "markdown",
   "id": "a85e4928-dbc1-49fe-a1a9-ae568a8ad311",
   "metadata": {},
   "source": [
    "weather column is not there so how are we gonna answer the guiding question, In which season do service requests occur most often? Are  we gonna find the season from the date of request?"
   ]
  },
  {
   "cell_type": "code",
   "execution_count": 1,
   "id": "51208c00-7f7e-4ede-b0bd-d67a74200648",
   "metadata": {},
   "outputs": [],
   "source": [
    "import pandas as pd\n",
    "import matplotlib.pyplot as plt\n",
    "import seaborn as sns"
   ]
  },
  {
   "cell_type": "code",
   "execution_count": 3,
   "id": "30eff332-812a-41ec-b259-0745d634ed67",
   "metadata": {},
   "outputs": [
    {
     "data": {
      "text/html": [
       "<div>\n",
       "<style scoped>\n",
       "    .dataframe tbody tr th:only-of-type {\n",
       "        vertical-align: middle;\n",
       "    }\n",
       "\n",
       "    .dataframe tbody tr th {\n",
       "        vertical-align: top;\n",
       "    }\n",
       "\n",
       "    .dataframe thead th {\n",
       "        text-align: right;\n",
       "    }\n",
       "</style>\n",
       "<table border=\"1\" class=\"dataframe\">\n",
       "  <thead>\n",
       "    <tr style=\"text-align: right;\">\n",
       "      <th></th>\n",
       "      <th>version https://git-lfs.github.com/spec/v1</th>\n",
       "    </tr>\n",
       "  </thead>\n",
       "  <tbody>\n",
       "    <tr>\n",
       "      <th>0</th>\n",
       "      <td>oid sha256:e23ee1f41bea095fd8c889824104ec1cee0...</td>\n",
       "    </tr>\n",
       "    <tr>\n",
       "      <th>1</th>\n",
       "      <td>size 294803354</td>\n",
       "    </tr>\n",
       "  </tbody>\n",
       "</table>\n",
       "</div>"
      ],
      "text/plain": [
       "          version https://git-lfs.github.com/spec/v1\n",
       "0  oid sha256:e23ee1f41bea095fd8c889824104ec1cee0...\n",
       "1                                     size 294803354"
      ]
     },
     "execution_count": 3,
     "metadata": {},
     "output_type": "execute_result"
    }
   ],
   "source": [
    "data=pd.read_csv(\"311_Service_Requests_2yrs.csv\")\n",
    "data.head()"
   ]
  },
  {
   "cell_type": "code",
   "execution_count": 46,
   "id": "b4f7b0ed-643b-402c-abbe-5537539bbdac",
   "metadata": {},
   "outputs": [
    {
     "data": {
      "text/plain": [
       "(1093918, 15)"
      ]
     },
     "execution_count": 46,
     "metadata": {},
     "output_type": "execute_result"
    }
   ],
   "source": [
    "data.shape"
   ]
  },
  {
   "cell_type": "markdown",
   "id": "58203426-c230-4b4c-b9fc-b3cefd6467e1",
   "metadata": {},
   "source": [
    "### Data information, description, null value count"
   ]
  },
  {
   "cell_type": "code",
   "execution_count": 47,
   "id": "5558b366-cb56-43f9-b849-cd04b2154848",
   "metadata": {
    "editable": true,
    "slideshow": {
     "slide_type": ""
    },
    "tags": []
   },
   "outputs": [
    {
     "name": "stdout",
     "output_type": "stream",
     "text": [
      "<class 'pandas.core.frame.DataFrame'>\n",
      "RangeIndex: 1093918 entries, 0 to 1093917\n",
      "Data columns (total 15 columns):\n",
      " #   Column              Non-Null Count    Dtype  \n",
      "---  ------              --------------    -----  \n",
      " 0   service_request_id  1093918 non-null  object \n",
      " 1   requested_date      1093918 non-null  object \n",
      " 2   updated_date        1093918 non-null  object \n",
      " 3   closed_date         1054204 non-null  object \n",
      " 4   status_description  1093918 non-null  object \n",
      " 5   source              1093918 non-null  object \n",
      " 6   service_name        1093918 non-null  object \n",
      " 7   agency_responsible  1093713 non-null  object \n",
      " 8   address             0 non-null        float64\n",
      " 9   comm_code           1017629 non-null  object \n",
      " 10  comm_name           1017630 non-null  object \n",
      " 11  location_type       1017842 non-null  object \n",
      " 12  longitude           1017618 non-null  float64\n",
      " 13  latitude            1017618 non-null  float64\n",
      " 14  point               1017618 non-null  object \n",
      "dtypes: float64(3), object(12)\n",
      "memory usage: 125.2+ MB\n",
      "None \n",
      "\n",
      "DATA DESCRIPTION: \n",
      "        address     longitude      latitude\n",
      "count      0.0  1.017618e+06  1.017618e+06\n",
      "mean       NaN -1.140659e+02  5.104032e+01\n",
      "std        NaN  8.140333e-02  8.259639e-02\n",
      "min        NaN -1.142867e+02  5.085444e+01\n",
      "25%        NaN -1.141184e+02  5.099047e+01\n",
      "50%        NaN -1.140696e+02  5.104741e+01\n",
      "75%        NaN -1.140060e+02  5.109607e+01\n",
      "max        NaN -1.138715e+02  5.120506e+01\n"
     ]
    }
   ],
   "source": [
    "print(data.info(),\"\\n\")\n",
    "print(\"DATA DESCRIPTION: \\n\",data.describe())"
   ]
  },
  {
   "cell_type": "markdown",
   "id": "7e03efd4-64c2-45ef-9530-386404e444f4",
   "metadata": {},
   "source": [
    "### Formatting"
   ]
  },
  {
   "cell_type": "code",
   "execution_count": 48,
   "id": "3c7f9e9c-0537-4a13-bc17-0b266502c202",
   "metadata": {},
   "outputs": [],
   "source": [
    "data['requested_date'] = pd.to_datetime(data['requested_date'],format='%Y/%m/%d %I:%M:%S %p')\n",
    "data['updated_date'] = pd.to_datetime(data['updated_date'],format='%Y/%m/%d %I:%M:%S %p')\n",
    "data['closed_date'] = pd.to_datetime(data['closed_date'], errors='coerce',format='%Y/%m/%d %I:%M:%S %p')#If 'coerce', then invalid parsing will be set as NaT.(Not a time)"
   ]
  },
  {
   "cell_type": "code",
   "execution_count": 49,
   "id": "c3a20986-6336-4506-aeb0-51125745e38b",
   "metadata": {},
   "outputs": [
    {
     "data": {
      "text/plain": [
       "service_request_id            object\n",
       "requested_date        datetime64[ns]\n",
       "updated_date          datetime64[ns]\n",
       "closed_date           datetime64[ns]\n",
       "status_description            object\n",
       "source                        object\n",
       "service_name                  object\n",
       "agency_responsible            object\n",
       "address                      float64\n",
       "comm_code                     object\n",
       "comm_name                     object\n",
       "location_type                 object\n",
       "longitude                    float64\n",
       "latitude                     float64\n",
       "point                         object\n",
       "dtype: object"
      ]
     },
     "execution_count": 49,
     "metadata": {},
     "output_type": "execute_result"
    }
   ],
   "source": [
    "data.dtypes"
   ]
  },
  {
   "cell_type": "markdown",
   "id": "58e02678-10ab-4832-8078-ec1df095f568",
   "metadata": {},
   "source": [
    "### Address column has more null values"
   ]
  },
  {
   "cell_type": "code",
   "execution_count": 50,
   "id": "4cdd7bd5-5209-4b55-ac54-96ded67b848f",
   "metadata": {},
   "outputs": [
    {
     "name": "stdout",
     "output_type": "stream",
     "text": [
      "Sum of Total null values in each columns:\n",
      " service_request_id          0\n",
      "requested_date              0\n",
      "updated_date                0\n",
      "closed_date             39714\n",
      "status_description          0\n",
      "source                      0\n",
      "service_name                0\n",
      "agency_responsible        205\n",
      "address               1093918\n",
      "comm_code               76289\n",
      "comm_name               76288\n",
      "location_type           76076\n",
      "longitude               76300\n",
      "latitude                76300\n",
      "point                   76300\n",
      "dtype: int64\n"
     ]
    }
   ],
   "source": [
    "print(\"Sum of Total null values in each columns:\\n\",data.isnull().sum())"
   ]
  },
  {
   "cell_type": "markdown",
   "id": "95e96441-c990-4bbf-8294-fcf81eaa7181",
   "metadata": {},
   "source": [
    "### Handling missing values"
   ]
  },
  {
   "cell_type": "code",
   "execution_count": 51,
   "id": "b8e4bfb7-bcb9-41a7-a238-46c5592355f1",
   "metadata": {},
   "outputs": [
    {
     "name": "stdout",
     "output_type": "stream",
     "text": [
      "service_request_id      0.000000\n",
      "requested_date          0.000000\n",
      "updated_date            0.000000\n",
      "closed_date             3.630437\n",
      "status_description      0.000000\n",
      "source                  0.000000\n",
      "service_name            0.000000\n",
      "agency_responsible      0.018740\n",
      "address               100.000000\n",
      "comm_code               6.973923\n",
      "comm_name               6.973832\n",
      "location_type           6.954452\n",
      "longitude               6.974929\n",
      "latitude                6.974929\n",
      "point                   6.974929\n",
      "dtype: float64\n"
     ]
    }
   ],
   "source": [
    "missing_percent = (data.isnull().sum() / len(data)) * 100\n",
    "print(missing_percent)"
   ]
  },
  {
   "cell_type": "code",
   "execution_count": 52,
   "id": "cfabde18-d908-4708-a494-5b186a7c16aa",
   "metadata": {},
   "outputs": [
    {
     "name": "stdout",
     "output_type": "stream",
     "text": [
      "Index(['service_request_id', 'requested_date', 'updated_date', 'closed_date',\n",
      "       'status_description', 'source', 'service_name', 'agency_responsible',\n",
      "       'comm_code', 'comm_name', 'longitude', 'latitude', 'point'],\n",
      "      dtype='object')\n"
     ]
    }
   ],
   "source": [
    "#As address column has more null values, lets remove the column for further analysis\n",
    "data = data.drop(columns=['address','location_type'])\n",
    "print(data.columns)"
   ]
  },
  {
   "cell_type": "code",
   "execution_count": 53,
   "id": "b36dee09-4dd3-4911-a68f-12de9a69c556",
   "metadata": {},
   "outputs": [],
   "source": [
    "#column 'closed_date'"
   ]
  },
  {
   "cell_type": "code",
   "execution_count": 54,
   "id": "d31c5650-bbfc-443c-8697-4f1c26cc9bb8",
   "metadata": {},
   "outputs": [],
   "source": [
    "newData=data.copy()"
   ]
  },
  {
   "cell_type": "code",
   "execution_count": 55,
   "id": "2d306049-ac63-4600-a57f-f41a0914676d",
   "metadata": {},
   "outputs": [],
   "source": [
    "newData=newData.dropna(subset=['closed_date','service_name','agency_responsible','comm_code','comm_name','longitude','latitude','point'])"
   ]
  },
  {
   "cell_type": "code",
   "execution_count": 56,
   "id": "2f105014-7cb3-4ac9-9123-dd21fd7513be",
   "metadata": {},
   "outputs": [
    {
     "name": "stdout",
     "output_type": "stream",
     "text": [
      "service_request_id    0.0\n",
      "requested_date        0.0\n",
      "updated_date          0.0\n",
      "closed_date           0.0\n",
      "status_description    0.0\n",
      "source                0.0\n",
      "service_name          0.0\n",
      "agency_responsible    0.0\n",
      "comm_code             0.0\n",
      "comm_name             0.0\n",
      "longitude             0.0\n",
      "latitude              0.0\n",
      "point                 0.0\n",
      "dtype: float64\n"
     ]
    }
   ],
   "source": [
    "missing_percent = (newData.isnull().sum() / len(newData)) * 100\n",
    "print(missing_percent)"
   ]
  },
  {
   "cell_type": "code",
   "execution_count": 57,
   "id": "7179ed42-72ad-4119-900b-1a706044245d",
   "metadata": {},
   "outputs": [
    {
     "data": {
      "text/plain": [
       "(979685, 13)"
      ]
     },
     "execution_count": 57,
     "metadata": {},
     "output_type": "execute_result"
    }
   ],
   "source": [
    "newData.shape"
   ]
  },
  {
   "cell_type": "code",
   "execution_count": 58,
   "id": "a266927d-a2b2-45e0-967b-bd5259ecfde6",
   "metadata": {},
   "outputs": [],
   "source": [
    "#column service name(updated)\n",
    "#way to do is fill null with the most frequent value(ie, mode)\n",
    "#Same goes for column agency_responsible"
   ]
  },
  {
   "cell_type": "code",
   "execution_count": 59,
   "id": "423e77cc-c34e-4709-b530-b5c8d0a52bfe",
   "metadata": {},
   "outputs": [],
   "source": [
    "#column longitude,latitude and point \n",
    "#mean imputation when the data shows a *normal distribution*.\n",
    "#OR median imputation when the variables are *skewed*.\n",
    "\n",
    "#KNNImputer"
   ]
  },
  {
   "cell_type": "markdown",
   "id": "665a4b2d-8800-48ea-b1ea-e58549fa4887",
   "metadata": {},
   "source": [
    "## new Column creation function"
   ]
  },
  {
   "cell_type": "code",
   "execution_count": 62,
   "id": "8f5824cc-03ef-4c45-b10a-d176c2bb882c",
   "metadata": {},
   "outputs": [
    {
     "name": "stdout",
     "output_type": "stream",
     "text": [
      "Number of Unique Service Names Before: 546\n",
      "Number of Unique Service Names After: 76\n",
      "Number of Unique Agencies Before: 71\n",
      "Number of Unique Agencies After: 23\n"
     ]
    }
   ],
   "source": [
    "def newColumnCreation(data):\n",
    "    service_nunique_values_before = data['service_name'].nunique()\n",
    "    \n",
    "    # Extract main service name (removing subdivisions)\n",
    "    data['new_serviceNames'] = data['service_name'].str.split(' -').str[0]\n",
    "    \n",
    "    service_nunique_values_after = data['new_serviceNames'].nunique()\n",
    "    \n",
    "    print(\"Number of Unique Service Names Before:\", service_nunique_values_before)\n",
    "    print(\"Number of Unique Service Names After:\", service_nunique_values_after)\n",
    "    \n",
    "    # Agency Responsible Analysis\n",
    "    agency_nunique_values_before = data['agency_responsible'].nunique()\n",
    "    \n",
    "    # Extract main agency name\n",
    "    data['new_agencyResponsible'] = data['agency_responsible'].str.split(' -').str[0]\n",
    "    \n",
    "    agency_nunique_values_after = data['new_agencyResponsible'].nunique()\n",
    "    \n",
    "    print(\"Number of Unique Agencies Before:\", agency_nunique_values_before)\n",
    "    print(\"Number of Unique Agencies After:\", agency_nunique_values_after)\n",
    "    \n",
    "    #return data\n",
    "newColumnCreation(newData)"
   ]
  },
  {
   "cell_type": "markdown",
   "id": "70704a6c-5f32-440a-8ad9-87ce1fd258fa",
   "metadata": {},
   "source": [
    "## Data cleaning for visual"
   ]
  },
  {
   "cell_type": "code",
   "execution_count": 68,
   "id": "f4da0540-85d5-43ba-93f9-3d0ac7890bd3",
   "metadata": {},
   "outputs": [
    {
     "data": {
      "text/html": [
       "<div>\n",
       "<style scoped>\n",
       "    .dataframe tbody tr th:only-of-type {\n",
       "        vertical-align: middle;\n",
       "    }\n",
       "\n",
       "    .dataframe tbody tr th {\n",
       "        vertical-align: top;\n",
       "    }\n",
       "\n",
       "    .dataframe thead th {\n",
       "        text-align: right;\n",
       "    }\n",
       "</style>\n",
       "<table border=\"1\" class=\"dataframe\">\n",
       "  <thead>\n",
       "    <tr style=\"text-align: right;\">\n",
       "      <th></th>\n",
       "      <th>service_request_id</th>\n",
       "      <th>requested_date</th>\n",
       "      <th>updated_date</th>\n",
       "      <th>closed_date</th>\n",
       "      <th>status_description</th>\n",
       "      <th>source</th>\n",
       "      <th>service_name</th>\n",
       "      <th>agency_responsible</th>\n",
       "      <th>comm_code</th>\n",
       "      <th>comm_name</th>\n",
       "      <th>...</th>\n",
       "      <th>latitude</th>\n",
       "      <th>point</th>\n",
       "      <th>new_serviceNames</th>\n",
       "      <th>new_agencyResponsible</th>\n",
       "      <th>community_request_count</th>\n",
       "      <th>month</th>\n",
       "      <th>year</th>\n",
       "      <th>season</th>\n",
       "      <th>response_time</th>\n",
       "      <th>resolution_time</th>\n",
       "    </tr>\n",
       "  </thead>\n",
       "  <tbody>\n",
       "    <tr>\n",
       "      <th>8</th>\n",
       "      <td>23-00002077</td>\n",
       "      <td>2023-01-02</td>\n",
       "      <td>2023-01-07</td>\n",
       "      <td>2023-01-07</td>\n",
       "      <td>Closed</td>\n",
       "      <td>Phone</td>\n",
       "      <td>Parks - Snow and Ice Concerns - WAM</td>\n",
       "      <td>CS - Calgary Parks</td>\n",
       "      <td>MCK</td>\n",
       "      <td>MCKENZIE LAKE</td>\n",
       "      <td>...</td>\n",
       "      <td>50.914881</td>\n",
       "      <td>POINT (-113.988181270219 50.914880843208)</td>\n",
       "      <td>Parks</td>\n",
       "      <td>CS</td>\n",
       "      <td>7343</td>\n",
       "      <td>1</td>\n",
       "      <td>2023</td>\n",
       "      <td>Winter</td>\n",
       "      <td>5</td>\n",
       "      <td>5</td>\n",
       "    </tr>\n",
       "    <tr>\n",
       "      <th>9</th>\n",
       "      <td>23-00002084</td>\n",
       "      <td>2023-01-02</td>\n",
       "      <td>2023-01-02</td>\n",
       "      <td>2023-01-02</td>\n",
       "      <td>Closed</td>\n",
       "      <td>Other</td>\n",
       "      <td>AS - Pick Up Stray</td>\n",
       "      <td>CS - Calgary Community Standards</td>\n",
       "      <td>FLN</td>\n",
       "      <td>FOREST LAWN</td>\n",
       "      <td>...</td>\n",
       "      <td>51.037848</td>\n",
       "      <td>POINT (-113.971230283867 51.037847718454)</td>\n",
       "      <td>AS</td>\n",
       "      <td>CS</td>\n",
       "      <td>7698</td>\n",
       "      <td>1</td>\n",
       "      <td>2023</td>\n",
       "      <td>Winter</td>\n",
       "      <td>0</td>\n",
       "      <td>0</td>\n",
       "    </tr>\n",
       "    <tr>\n",
       "      <th>11</th>\n",
       "      <td>23-00002080</td>\n",
       "      <td>2023-01-02</td>\n",
       "      <td>2023-01-03</td>\n",
       "      <td>2023-01-03</td>\n",
       "      <td>Closed</td>\n",
       "      <td>Phone</td>\n",
       "      <td>WATS - Water Quality</td>\n",
       "      <td>UEP - Water Services</td>\n",
       "      <td>BRT</td>\n",
       "      <td>BRITANNIA</td>\n",
       "      <td>...</td>\n",
       "      <td>51.012675</td>\n",
       "      <td>POINT (-114.086314872035 51.012674541829)</td>\n",
       "      <td>WATS</td>\n",
       "      <td>UEP</td>\n",
       "      <td>997</td>\n",
       "      <td>1</td>\n",
       "      <td>2023</td>\n",
       "      <td>Winter</td>\n",
       "      <td>1</td>\n",
       "      <td>1</td>\n",
       "    </tr>\n",
       "    <tr>\n",
       "      <th>12</th>\n",
       "      <td>23-00002085</td>\n",
       "      <td>2023-01-02</td>\n",
       "      <td>2023-01-03</td>\n",
       "      <td>2023-01-03</td>\n",
       "      <td>Closed</td>\n",
       "      <td>App</td>\n",
       "      <td>Parks - Snow and Ice Concerns - WAM</td>\n",
       "      <td>CS - Calgary Parks</td>\n",
       "      <td>BED</td>\n",
       "      <td>BEDDINGTON HEIGHTS</td>\n",
       "      <td>...</td>\n",
       "      <td>51.131644</td>\n",
       "      <td>POINT (-114.084911140805 51.131643985322)</td>\n",
       "      <td>Parks</td>\n",
       "      <td>CS</td>\n",
       "      <td>6713</td>\n",
       "      <td>1</td>\n",
       "      <td>2023</td>\n",
       "      <td>Winter</td>\n",
       "      <td>1</td>\n",
       "      <td>1</td>\n",
       "    </tr>\n",
       "    <tr>\n",
       "      <th>13</th>\n",
       "      <td>23-00002086</td>\n",
       "      <td>2023-01-02</td>\n",
       "      <td>2023-01-03</td>\n",
       "      <td>2023-01-03</td>\n",
       "      <td>Closed</td>\n",
       "      <td>App</td>\n",
       "      <td>Parks - Snow and Ice Concerns - WAM</td>\n",
       "      <td>CS - Calgary Parks</td>\n",
       "      <td>QLD</td>\n",
       "      <td>QUEENSLAND</td>\n",
       "      <td>...</td>\n",
       "      <td>50.938224</td>\n",
       "      <td>POINT (-114.022571706061 50.938224120413)</td>\n",
       "      <td>Parks</td>\n",
       "      <td>CS</td>\n",
       "      <td>2700</td>\n",
       "      <td>1</td>\n",
       "      <td>2023</td>\n",
       "      <td>Winter</td>\n",
       "      <td>1</td>\n",
       "      <td>1</td>\n",
       "    </tr>\n",
       "    <tr>\n",
       "      <th>...</th>\n",
       "      <td>...</td>\n",
       "      <td>...</td>\n",
       "      <td>...</td>\n",
       "      <td>...</td>\n",
       "      <td>...</td>\n",
       "      <td>...</td>\n",
       "      <td>...</td>\n",
       "      <td>...</td>\n",
       "      <td>...</td>\n",
       "      <td>...</td>\n",
       "      <td>...</td>\n",
       "      <td>...</td>\n",
       "      <td>...</td>\n",
       "      <td>...</td>\n",
       "      <td>...</td>\n",
       "      <td>...</td>\n",
       "      <td>...</td>\n",
       "      <td>...</td>\n",
       "      <td>...</td>\n",
       "      <td>...</td>\n",
       "      <td>...</td>\n",
       "    </tr>\n",
       "    <tr>\n",
       "      <th>1093889</th>\n",
       "      <td>25-00062491</td>\n",
       "      <td>2025-01-27</td>\n",
       "      <td>2025-01-27</td>\n",
       "      <td>2025-01-27</td>\n",
       "      <td>Closed</td>\n",
       "      <td>Other</td>\n",
       "      <td>Roads - Traffic or Pedestrian Light Repair</td>\n",
       "      <td>OS - Mobility</td>\n",
       "      <td>HAR</td>\n",
       "      <td>HARVEST HILLS</td>\n",
       "      <td>...</td>\n",
       "      <td>51.147678</td>\n",
       "      <td>POINT (-114.05277797732376 51.14767758603047)</td>\n",
       "      <td>Roads</td>\n",
       "      <td>OS</td>\n",
       "      <td>3807</td>\n",
       "      <td>1</td>\n",
       "      <td>2025</td>\n",
       "      <td>Winter</td>\n",
       "      <td>0</td>\n",
       "      <td>0</td>\n",
       "    </tr>\n",
       "    <tr>\n",
       "      <th>1093891</th>\n",
       "      <td>25-00062810</td>\n",
       "      <td>2025-01-27</td>\n",
       "      <td>2025-01-27</td>\n",
       "      <td>2025-01-27</td>\n",
       "      <td>Closed</td>\n",
       "      <td>Other</td>\n",
       "      <td>CT - Transit Pass Programs</td>\n",
       "      <td>OS - Calgary Transit</td>\n",
       "      <td>BNK</td>\n",
       "      <td>BANKVIEW</td>\n",
       "      <td>...</td>\n",
       "      <td>51.034128</td>\n",
       "      <td>POINT (-114.10048318978971 51.0341275275111)</td>\n",
       "      <td>CT</td>\n",
       "      <td>OS</td>\n",
       "      <td>4627</td>\n",
       "      <td>1</td>\n",
       "      <td>2025</td>\n",
       "      <td>Winter</td>\n",
       "      <td>0</td>\n",
       "      <td>0</td>\n",
       "    </tr>\n",
       "    <tr>\n",
       "      <th>1093893</th>\n",
       "      <td>25-00062770</td>\n",
       "      <td>2025-01-27</td>\n",
       "      <td>2025-01-27</td>\n",
       "      <td>2025-01-27</td>\n",
       "      <td>Closed</td>\n",
       "      <td>Other</td>\n",
       "      <td>CT AC - Trip Feedback - CTA</td>\n",
       "      <td>OS - Calgary Transit</td>\n",
       "      <td>OGD</td>\n",
       "      <td>OGDEN</td>\n",
       "      <td>...</td>\n",
       "      <td>50.991873</td>\n",
       "      <td>POINT (-114.01243870034233 50.99187347808853)</td>\n",
       "      <td>CT AC</td>\n",
       "      <td>OS</td>\n",
       "      <td>7740</td>\n",
       "      <td>1</td>\n",
       "      <td>2025</td>\n",
       "      <td>Winter</td>\n",
       "      <td>0</td>\n",
       "      <td>0</td>\n",
       "    </tr>\n",
       "    <tr>\n",
       "      <th>1093894</th>\n",
       "      <td>25-00065151</td>\n",
       "      <td>2025-01-27</td>\n",
       "      <td>2025-01-27</td>\n",
       "      <td>2025-01-27</td>\n",
       "      <td>Closed</td>\n",
       "      <td>Other</td>\n",
       "      <td>WATS - Sewage Back-up</td>\n",
       "      <td>OS - Water Services</td>\n",
       "      <td>FAL</td>\n",
       "      <td>FALCONRIDGE</td>\n",
       "      <td>...</td>\n",
       "      <td>51.103350</td>\n",
       "      <td>POINT (-113.94533995179364 51.10334979554837)</td>\n",
       "      <td>WATS</td>\n",
       "      <td>OS</td>\n",
       "      <td>5763</td>\n",
       "      <td>1</td>\n",
       "      <td>2025</td>\n",
       "      <td>Winter</td>\n",
       "      <td>0</td>\n",
       "      <td>0</td>\n",
       "    </tr>\n",
       "    <tr>\n",
       "      <th>1093916</th>\n",
       "      <td>25-00064393</td>\n",
       "      <td>2025-01-27</td>\n",
       "      <td>2025-01-27</td>\n",
       "      <td>2025-01-27</td>\n",
       "      <td>Closed</td>\n",
       "      <td>Other</td>\n",
       "      <td>Roads - Debris on Street/Sidewalk/Boulevard</td>\n",
       "      <td>OS - Mobility</td>\n",
       "      <td>PAN</td>\n",
       "      <td>PANORAMA HILLS</td>\n",
       "      <td>...</td>\n",
       "      <td>51.159711</td>\n",
       "      <td>POINT (-114.08806340626336 51.15971101107547)</td>\n",
       "      <td>Roads</td>\n",
       "      <td>OS</td>\n",
       "      <td>8640</td>\n",
       "      <td>1</td>\n",
       "      <td>2025</td>\n",
       "      <td>Winter</td>\n",
       "      <td>0</td>\n",
       "      <td>0</td>\n",
       "    </tr>\n",
       "  </tbody>\n",
       "</table>\n",
       "<p>979685 rows × 21 columns</p>\n",
       "</div>"
      ],
      "text/plain": [
       "        service_request_id requested_date updated_date closed_date  \\\n",
       "8              23-00002077     2023-01-02   2023-01-07  2023-01-07   \n",
       "9              23-00002084     2023-01-02   2023-01-02  2023-01-02   \n",
       "11             23-00002080     2023-01-02   2023-01-03  2023-01-03   \n",
       "12             23-00002085     2023-01-02   2023-01-03  2023-01-03   \n",
       "13             23-00002086     2023-01-02   2023-01-03  2023-01-03   \n",
       "...                    ...            ...          ...         ...   \n",
       "1093889        25-00062491     2025-01-27   2025-01-27  2025-01-27   \n",
       "1093891        25-00062810     2025-01-27   2025-01-27  2025-01-27   \n",
       "1093893        25-00062770     2025-01-27   2025-01-27  2025-01-27   \n",
       "1093894        25-00065151     2025-01-27   2025-01-27  2025-01-27   \n",
       "1093916        25-00064393     2025-01-27   2025-01-27  2025-01-27   \n",
       "\n",
       "        status_description source  \\\n",
       "8                   Closed  Phone   \n",
       "9                   Closed  Other   \n",
       "11                  Closed  Phone   \n",
       "12                  Closed    App   \n",
       "13                  Closed    App   \n",
       "...                    ...    ...   \n",
       "1093889             Closed  Other   \n",
       "1093891             Closed  Other   \n",
       "1093893             Closed  Other   \n",
       "1093894             Closed  Other   \n",
       "1093916             Closed  Other   \n",
       "\n",
       "                                        service_name  \\\n",
       "8                Parks - Snow and Ice Concerns - WAM   \n",
       "9                                 AS - Pick Up Stray   \n",
       "11                              WATS - Water Quality   \n",
       "12               Parks - Snow and Ice Concerns - WAM   \n",
       "13               Parks - Snow and Ice Concerns - WAM   \n",
       "...                                              ...   \n",
       "1093889   Roads - Traffic or Pedestrian Light Repair   \n",
       "1093891                   CT - Transit Pass Programs   \n",
       "1093893                  CT AC - Trip Feedback - CTA   \n",
       "1093894                        WATS - Sewage Back-up   \n",
       "1093916  Roads - Debris on Street/Sidewalk/Boulevard   \n",
       "\n",
       "                       agency_responsible comm_code           comm_name  ...  \\\n",
       "8                      CS - Calgary Parks       MCK       MCKENZIE LAKE  ...   \n",
       "9        CS - Calgary Community Standards       FLN         FOREST LAWN  ...   \n",
       "11                   UEP - Water Services       BRT           BRITANNIA  ...   \n",
       "12                     CS - Calgary Parks       BED  BEDDINGTON HEIGHTS  ...   \n",
       "13                     CS - Calgary Parks       QLD          QUEENSLAND  ...   \n",
       "...                                   ...       ...                 ...  ...   \n",
       "1093889                     OS - Mobility       HAR       HARVEST HILLS  ...   \n",
       "1093891              OS - Calgary Transit       BNK            BANKVIEW  ...   \n",
       "1093893              OS - Calgary Transit       OGD               OGDEN  ...   \n",
       "1093894               OS - Water Services       FAL         FALCONRIDGE  ...   \n",
       "1093916                     OS - Mobility       PAN      PANORAMA HILLS  ...   \n",
       "\n",
       "          latitude                                          point  \\\n",
       "8        50.914881      POINT (-113.988181270219 50.914880843208)   \n",
       "9        51.037848      POINT (-113.971230283867 51.037847718454)   \n",
       "11       51.012675      POINT (-114.086314872035 51.012674541829)   \n",
       "12       51.131644      POINT (-114.084911140805 51.131643985322)   \n",
       "13       50.938224      POINT (-114.022571706061 50.938224120413)   \n",
       "...            ...                                            ...   \n",
       "1093889  51.147678  POINT (-114.05277797732376 51.14767758603047)   \n",
       "1093891  51.034128   POINT (-114.10048318978971 51.0341275275111)   \n",
       "1093893  50.991873  POINT (-114.01243870034233 50.99187347808853)   \n",
       "1093894  51.103350  POINT (-113.94533995179364 51.10334979554837)   \n",
       "1093916  51.159711  POINT (-114.08806340626336 51.15971101107547)   \n",
       "\n",
       "        new_serviceNames new_agencyResponsible community_request_count  month  \\\n",
       "8                  Parks                    CS                    7343      1   \n",
       "9                     AS                    CS                    7698      1   \n",
       "11                  WATS                   UEP                     997      1   \n",
       "12                 Parks                    CS                    6713      1   \n",
       "13                 Parks                    CS                    2700      1   \n",
       "...                  ...                   ...                     ...    ...   \n",
       "1093889            Roads                    OS                    3807      1   \n",
       "1093891               CT                    OS                    4627      1   \n",
       "1093893            CT AC                    OS                    7740      1   \n",
       "1093894             WATS                    OS                    5763      1   \n",
       "1093916            Roads                    OS                    8640      1   \n",
       "\n",
       "         year  season response_time  resolution_time  \n",
       "8        2023  Winter             5                5  \n",
       "9        2023  Winter             0                0  \n",
       "11       2023  Winter             1                1  \n",
       "12       2023  Winter             1                1  \n",
       "13       2023  Winter             1                1  \n",
       "...       ...     ...           ...              ...  \n",
       "1093889  2025  Winter             0                0  \n",
       "1093891  2025  Winter             0                0  \n",
       "1093893  2025  Winter             0                0  \n",
       "1093894  2025  Winter             0                0  \n",
       "1093916  2025  Winter             0                0  \n",
       "\n",
       "[979685 rows x 21 columns]"
      ]
     },
     "execution_count": 68,
     "metadata": {},
     "output_type": "execute_result"
    }
   ],
   "source": [
    "\n",
    "def clean_service_requests(newData):\n",
    "    # 1. Geographic Analysis\n",
    "    newData[\"community_request_count\"] = newData.groupby(\"comm_name\")[\"service_request_id\"].transform('count')\n",
    "\n",
    "    # 2. Seasonal Trends\n",
    "    newData[\"month\"] = newData[\"requested_date\"].dt.month\n",
    "    newData[\"year\"] = newData[\"requested_date\"].dt.year\n",
    "\n",
    "    # Function to categorize seasons\n",
    "    def get_season(month):\n",
    "        if month in [12, 1, 2]: return \"Winter\"\n",
    "        elif month in [3, 4, 5]: return \"Spring\"\n",
    "        elif month in [6, 7, 8]: return \"Summer\"\n",
    "        else: return \"Fall\"\n",
    "\n",
    "    newData[\"season\"] = newData[\"month\"].apply(get_season)\n",
    "\n",
    "    # 3. Response Efficiency\n",
    "    newData[\"response_time\"] = (newData[\"updated_date\"] - newData[\"requested_date\"]).dt.days\n",
    "    newData[\"resolution_time\"] = (newData[\"closed_date\"] - newData[\"requested_date\"]).dt.days\n",
    "\n",
    "    # Save the cleaned dataset\n",
    "    newData.to_csv(\"service_requests_cleaned.csv\", index=False)\n",
    "\n",
    "    return newData\n",
    "\n",
    "\n",
    "newData_cleaned = clean_service_requests(newData)\n",
    "newData_cleaned"
   ]
  },
  {
   "cell_type": "code",
   "execution_count": 66,
   "id": "a4dd4d9a-dc7e-4332-914d-e07ee79d3840",
   "metadata": {},
   "outputs": [
    {
     "name": "stdout",
     "output_type": "stream",
     "text": [
      "<class 'pandas.core.frame.DataFrame'>\n",
      "Index: 979685 entries, 8 to 1093916\n",
      "Data columns (total 15 columns):\n",
      " #   Column                 Non-Null Count   Dtype         \n",
      "---  ------                 --------------   -----         \n",
      " 0   service_request_id     979685 non-null  object        \n",
      " 1   requested_date         979685 non-null  datetime64[ns]\n",
      " 2   updated_date           979685 non-null  datetime64[ns]\n",
      " 3   closed_date            979685 non-null  datetime64[ns]\n",
      " 4   status_description     979685 non-null  object        \n",
      " 5   source                 979685 non-null  object        \n",
      " 6   service_name           979685 non-null  object        \n",
      " 7   agency_responsible     979685 non-null  object        \n",
      " 8   comm_code              979685 non-null  object        \n",
      " 9   comm_name              979685 non-null  object        \n",
      " 10  longitude              979685 non-null  float64       \n",
      " 11  latitude               979685 non-null  float64       \n",
      " 12  point                  979685 non-null  object        \n",
      " 13  new_serviceNames       979685 non-null  object        \n",
      " 14  new_agencyResponsible  979685 non-null  object        \n",
      "dtypes: datetime64[ns](3), float64(2), object(10)\n",
      "memory usage: 119.6+ MB\n"
     ]
    }
   ],
   "source": [
    "newData.info()"
   ]
  },
  {
   "cell_type": "markdown",
   "id": "ae4c9513-4b2d-42fb-b8ee-bc4943964533",
   "metadata": {},
   "source": [
    "## Merging community sector to main dataset"
   ]
  },
  {
   "cell_type": "code",
   "execution_count": 89,
   "id": "d4bfc690-c0e1-4df7-944e-ec3ed61459fc",
   "metadata": {},
   "outputs": [
    {
     "name": "stdout",
     "output_type": "stream",
     "text": [
      "0 0\n"
     ]
    }
   ],
   "source": [
    "community_data=pd.read_csv(\"Community_Points_20250205.csv\")\n",
    "print(community_data['COMM_CODE'].isnull().sum(),community_data['SECTOR'].isnull().sum())"
   ]
  },
  {
   "cell_type": "code",
   "execution_count": 90,
   "id": "87d5daa9-9b52-4498-98f0-20ab9d07e70a",
   "metadata": {},
   "outputs": [
    {
     "name": "stdout",
     "output_type": "stream",
     "text": [
      "<class 'pandas.core.frame.DataFrame'>\n",
      "RangeIndex: 979685 entries, 0 to 979684\n",
      "Data columns (total 22 columns):\n",
      " #   Column                   Non-Null Count   Dtype         \n",
      "---  ------                   --------------   -----         \n",
      " 0   service_request_id       979685 non-null  object        \n",
      " 1   requested_date           979685 non-null  datetime64[ns]\n",
      " 2   updated_date             979685 non-null  datetime64[ns]\n",
      " 3   closed_date              979685 non-null  datetime64[ns]\n",
      " 4   status_description       979685 non-null  object        \n",
      " 5   source                   979685 non-null  object        \n",
      " 6   service_name             979685 non-null  object        \n",
      " 7   agency_responsible       979685 non-null  object        \n",
      " 8   comm_code                979685 non-null  object        \n",
      " 9   comm_name                979685 non-null  object        \n",
      " 10  longitude                979685 non-null  float64       \n",
      " 11  latitude                 979685 non-null  float64       \n",
      " 12  point                    979685 non-null  object        \n",
      " 13  new_serviceNames         979685 non-null  object        \n",
      " 14  new_agencyResponsible    979685 non-null  object        \n",
      " 15  community_request_count  979685 non-null  int64         \n",
      " 16  month                    979685 non-null  int32         \n",
      " 17  year                     979685 non-null  int32         \n",
      " 18  season                   979685 non-null  object        \n",
      " 19  response_time            979685 non-null  int64         \n",
      " 20  resolution_time          979685 non-null  int64         \n",
      " 21  community_sector         978281 non-null  object        \n",
      "dtypes: datetime64[ns](3), float64(2), int32(2), int64(3), object(12)\n",
      "memory usage: 157.0+ MB\n",
      "None\n",
      "['12I' 'ABT' '01I' '11A' 'ABR']\n",
      "<class 'pandas.core.frame.DataFrame'>\n",
      "Index: 1404 entries, 13 to 967020\n",
      "Data columns (total 2 columns):\n",
      " #   Column            Non-Null Count  Dtype \n",
      "---  ------            --------------  ----- \n",
      " 0   comm_code         1404 non-null   object\n",
      " 1   community_sector  0 non-null      object\n",
      "dtypes: object(2)\n",
      "memory usage: 32.9+ KB\n"
     ]
    }
   ],
   "source": [
    "def merge_community_sector(main_data, community_data):\n",
    "    # Rename the relevant columns in the community_data for clarity and consistency\n",
    "    community_data.rename(columns={'COMM_CODE': 'comm_code', 'SECTOR': 'community_sector'}, inplace=True)\n",
    "    \n",
    "    # Merge the datasets based on the 'comm_code'\n",
    "    merged_data = main_data.merge(community_data[['comm_code', 'community_sector']], on='comm_code', how='left')\n",
    "    \n",
    "    # Save the merged dataset\n",
    "    merged_data.to_csv(\"merged_service_requests.csv\", index=False)\n",
    "    \n",
    "    return merged_data\n",
    "\n",
    "# Assuming newData and community_data are already loaded\n",
    "merged_data = merge_community_sector(newData, community_data)\n",
    "print(merged_data.info())\n",
    "null_rows = merged_data[merged_data['community_sector'].isnull()]\n",
    "null_comm_codes = null_rows['comm_code'].unique()\n",
    "print(null_comm_codes)\n",
    "comm_codes_to_check = ['12I', 'ABT', '01I', '11A', 'ABR']\n",
    "def check_comm_codes_for_sector(df, comm_codes):\n",
    "    filtered_data = df[df['comm_code'].isin(comm_codes)]\n",
    "    sector_mapping = filtered_data[['comm_code', 'community_sector']]\n",
    "    \n",
    "    return sector_mapping\n",
    "sector_mapping = check_comm_codes_for_sector(merged_data, comm_codes_to_check)\n",
    "sector_mapping.info()\n"
   ]
  },
  {
   "cell_type": "code",
   "execution_count": 91,
   "id": "cef20ebb-046f-4bdb-b03c-1a138081fe98",
   "metadata": {},
   "outputs": [
    {
     "data": {
      "text/plain": [
       "service_request_id            0\n",
       "requested_date                0\n",
       "updated_date                  0\n",
       "closed_date                   0\n",
       "status_description            0\n",
       "source                        0\n",
       "service_name                  0\n",
       "agency_responsible            0\n",
       "comm_code                     0\n",
       "comm_name                     0\n",
       "longitude                     0\n",
       "latitude                      0\n",
       "point                         0\n",
       "new_serviceNames              0\n",
       "new_agencyResponsible         0\n",
       "community_request_count       0\n",
       "month                         0\n",
       "year                          0\n",
       "season                        0\n",
       "response_time                 0\n",
       "resolution_time               0\n",
       "community_sector           1404\n",
       "dtype: int64"
      ]
     },
     "execution_count": 91,
     "metadata": {},
     "output_type": "execute_result"
    }
   ],
   "source": [
    "merged_data.isnull().sum()"
   ]
  },
  {
   "cell_type": "markdown",
   "id": "d60a9f0b-8838-4e8b-aabb-b9be270b9bb1",
   "metadata": {},
   "source": [
    "### Column \"service_name\" "
   ]
  },
  {
   "cell_type": "code",
   "execution_count": 16,
   "id": "d50d7276-2962-47d3-9ccd-2da9798bf634",
   "metadata": {},
   "outputs": [
    {
     "name": "stdout",
     "output_type": "stream",
     "text": [
      "640\n"
     ]
    }
   ],
   "source": [
    "service_nunique_values=data['service_name'].nunique()\n",
    "print(service_nunique_values)"
   ]
  },
  {
   "cell_type": "code",
   "execution_count": 38,
   "id": "d81f35a6-e2d8-45a6-b16b-c36d36feda8f",
   "metadata": {},
   "outputs": [
    {
     "data": {
      "text/plain": [
       "\"service_unique_values=data['service_name'].unique()\\nprint(service_unique_values)\""
      ]
     },
     "execution_count": 38,
     "metadata": {},
     "output_type": "execute_result"
    }
   ],
   "source": [
    "'''service_unique_values=data['service_name'].unique()\n",
    "print(service_unique_values)'''"
   ]
  },
  {
   "cell_type": "code",
   "execution_count": 18,
   "id": "ad1114c5-298e-4948-b164-932f500e4714",
   "metadata": {},
   "outputs": [
    {
     "name": "stdout",
     "output_type": "stream",
     "text": [
      "service_name\n",
      "WRS - Cart Management                      51648\n",
      "Finance - Property Tax Account Inquiry     37459\n",
      "Bylaw - Snow and Ice on Sidewalk           34438\n",
      "Finance - ONLINE TIPP Agreement Request    28318\n",
      "Corporate - Graffiti Concerns              22096\n",
      "                                           ...  \n",
      "CAI - Employee Complaint - Compliment          1\n",
      "WATR - Water Brochure                          1\n",
      "PSD - Major Mobility - Paving Program          1\n",
      "WRS - Chatbot Feedback                         1\n",
      "CPI - Employee Complaint - Compliment          1\n",
      "Name: count, Length: 640, dtype: int64\n"
     ]
    }
   ],
   "source": [
    "service_unique_values_cnt=data['service_name'].value_counts()\n",
    "print(service_unique_values_cnt)"
   ]
  },
  {
   "cell_type": "code",
   "execution_count": 19,
   "id": "68e138c4-d164-4766-b0c6-77a3b2b80633",
   "metadata": {},
   "outputs": [
    {
     "name": "stdout",
     "output_type": "stream",
     "text": [
      "['Finance' 'Active Living Program Application' 'CN' 'CT' 'Recreation'\n",
      " 'CT AC' 'REC' 'Parks' 'AS' 'WATS' 'Bylaw' 'Roads' 'Corporate'\n",
      " 'CBS Inspection' '311 Contact Us' 'WATR' 'WRS' 'After Hours Transit'\n",
      " 'Compliance' 'Opinions on Business Units' 'HR' 'CFD' 'CSC'\n",
      " 'Animal / Bylaw' 'CBS' 'Partnerships' 'Customer Service & Communications'\n",
      " 'UEP' 'CAI' 'Law' 'GFL' 'TP' 'CBS Concern' 'Calgary Housing' 'RSP' 'DBBS'\n",
      " 'Public' \"Mayor's Office\" 'Parks PlayBins' 'ASMT' 'Roads Permits'\n",
      " 'Green Line Inquiry' 'PSD' 'Stewardship of City Owned Land'\n",
      " 'Facility Mgmt' 'REDS' 'TI' 'AT' 'BIA Requests' 'CEMA' 'CGS' 'Fleet'\n",
      " 'CPA' 'CP' 'CMO' \"City Clerk's\" 'Business Safety' 'CED'\n",
      " 'Parks Seasonal Vendor Application' 'IT' 'Fleet and Inventory'\n",
      " 'Regulatory Affairs' 'Supply' 'UD' 'LEAD Program Inquiry'\n",
      " 'Community Safety' 'DBBS Inspection' 'VFH' 'ESM' 'City Auditors'\n",
      " 'DBBS Concern' 'Community Clean Up Event' 'CRP' 'CE'\n",
      " 'Playfield Portisan Placement Request' 'CAC' 'ACPL' 'ZZZ Business Safety'\n",
      " 'CPI' 'ZZZ VFH' 'CE ' 'Evacuated Residents Registration Form'\n",
      " 'Eau Claire Area Improvements' 'CS'\n",
      " 'Filming and Movie and Drone Activities' 'Comm Strategies']\n"
     ]
    }
   ],
   "source": [
    "data['new_serviceNames'] = data['service_name'].str.split(' -').str[0] #extracted main service name and removed sub division of that.\n",
    "sn_unique_values = data['new_serviceNames'].unique()\n",
    "print(sn_unique_values)"
   ]
  },
  {
   "cell_type": "code",
   "execution_count": 20,
   "id": "a1d76947-aabf-4cdb-92e4-2f42b6b35e5b",
   "metadata": {},
   "outputs": [
    {
     "name": "stdout",
     "output_type": "stream",
     "text": [
      "Number of Unique values:  86\n",
      "new_serviceNames\n",
      "Roads                           183532\n",
      "WRS                             141593\n",
      "Bylaw                           115765\n",
      "Parks                            94314\n",
      "Finance                          87481\n",
      "                                 ...  \n",
      "Comm Strategies                      6\n",
      "City Auditors                        5\n",
      "Community Clean Up Event             2\n",
      "CAC                                  1\n",
      "Eau Claire Area Improvements         1\n",
      "Name: count, Length: 86, dtype: int64\n"
     ]
    }
   ],
   "source": [
    "unique_values = data['new_serviceNames'].nunique()\n",
    "print(\"Number of Unique values: \",unique_values)\n",
    "unique_values_cnt = data['new_serviceNames'].value_counts()\n",
    "print(unique_values_cnt)"
   ]
  },
  {
   "cell_type": "code",
   "execution_count": 21,
   "id": "75ebf039-de55-438b-a2ae-024d0326459a",
   "metadata": {},
   "outputs": [
    {
     "data": {
      "text/plain": [
       "24176"
      ]
     },
     "execution_count": 21,
     "metadata": {},
     "output_type": "execute_result"
    }
   ],
   "source": [
    "#count of particular value\n",
    "count = (data['new_serviceNames'] == 'AS').sum()\n",
    "count"
   ]
  },
  {
   "cell_type": "markdown",
   "id": "6b070531-b2b9-4b50-9a0b-388530c20396",
   "metadata": {},
   "source": [
    "### Column \"agency_responsible\""
   ]
  },
  {
   "cell_type": "code",
   "execution_count": 22,
   "id": "b55a962c-5ce1-44cf-8dfa-f303325297b5",
   "metadata": {},
   "outputs": [
    {
     "name": "stdout",
     "output_type": "stream",
     "text": [
      "77\n"
     ]
    }
   ],
   "source": [
    "agency_nunique_values=data['agency_responsible'].nunique()\n",
    "print(agency_nunique_values)"
   ]
  },
  {
   "cell_type": "code",
   "execution_count": 23,
   "id": "b2120c8d-5f1f-49d6-869a-41f25b5622df",
   "metadata": {},
   "outputs": [
    {
     "name": "stdout",
     "output_type": "stream",
     "text": [
      "['CFOD - Finance' 'CS - Recreation and Social Programs'\n",
      " 'CS - Calgary Neighbourhoods' 'OS - Calgary Transit'\n",
      " 'CS - Calgary Recreation' 'TRAN - Calgary Transit' 'CS - Calgary Parks'\n",
      " 'CS - Calgary Community Standards' 'UEP - Water Services'\n",
      " 'OS - Parks and Open Spaces' 'TRAN - Roads'\n",
      " 'PD - Calgary Building Services'\n",
      " 'CFOD - Customer Services and Communications' 'UEP - Water Resources'\n",
      " 'UEP - Waste and Recycling Services' 'CPFS - Assessment and Tax'\n",
      " 'Corporate Wide Service Requests'\n",
      " 'CS - Emergency Management and Community Safety'\n",
      " 'OS - Waste and Recycling Services' 'PICS - Human Resources'\n",
      " 'CS - Calgary Fire' 'OS - Mobility' 'Tranc - Calgary Transit'\n",
      " 'Partnerships' 'DCMO - Corporate Analytics and Innovation' 'LL - Law'\n",
      " 'Uepc - Waste and Recycling Services' 'TRAN - Transportation Planning'\n",
      " 'OS - Water Services' 'CS - Calgary Housing'\n",
      " 'Recreation and Social Programs'\n",
      " 'PDS - Development, Business and Building Services'\n",
      " 'DCMO - Facility Management' 'Elected Officials'\n",
      " 'PICS - Customer Service and Communications' 'CFOD - Human Resources'\n",
      " 'TRAN - Green Line' 'IS - Public Spaces Delivery'\n",
      " 'OS - Facility Management' 'DCMO - Real Estate and Development Services'\n",
      " 'TRAN - Transportation Infrastructure' 'LLSS - Law'\n",
      " 'CS - Calgary Emergency Management Agency'\n",
      " 'PD - Calgary Growth Strategies' 'DCMO - Fleet Services'\n",
      " 'OSC - Calgary Transit' 'PD - Community Planning' 'OS - Water Resources'\n",
      " \"LLSS - City Manager's Office\" \"LL - City Clerk's\"\n",
      " 'OSC - Waste and Recycling Services' 'Affiliated Organizations'\n",
      " 'PICS - Collaboration, Analytics and Innovation'\n",
      " 'PICS - Information Technology' 'AO - Calgary Parking Authority'\n",
      " 'Fleet and Inventory' 'CPFS - Finance'\n",
      " 'IS - Real Estate and Development Services' 'DCMO - Supply'\n",
      " 'IS - Utilities Delivery' 'CFOD - Information Technology'\n",
      " 'UEP - Environmental and Safety Management' 'Office of the City Auditor'\n",
      " 'PDS - City and Regional Planning' 'PDS - Climate and Environment'\n",
      " \"LL - City Manager's Office\" 'IS - Capital Priorities and Investments'\n",
      " \"LLSS - City Clerk's Office\" 'PDS - Community Planning'\n",
      " 'PD - Calgary Approvals Coordination' 'CS - Community Strategies'\n",
      " 'CS - Partnerships' nan 'AO - Calgary Housing' 'OS - Fleet and Inventory'\n",
      " 'AO - Calgary Economic Development' 'CPFS - Supply Management'\n",
      " 'OS - Operational Excellence']\n"
     ]
    }
   ],
   "source": [
    "agency_unique_values=data['agency_responsible'].unique()\n",
    "print(agency_unique_values)"
   ]
  },
  {
   "cell_type": "code",
   "execution_count": 24,
   "id": "475f2630-ba95-47f2-8a8c-1287bc407667",
   "metadata": {},
   "outputs": [
    {
     "name": "stdout",
     "output_type": "stream",
     "text": [
      "agency_responsible\n",
      "CS - Emergency Management and Community Safety    168193\n",
      "OS - Mobility                                     161207\n",
      "OS - Waste and Recycling Services                 122552\n",
      "CPFS - Assessment and Tax                          94478\n",
      "OS - Parks and Open Spaces                         86389\n",
      "                                                   ...  \n",
      "Office of the City Auditor                             5\n",
      "AO - Calgary Parking Authority                         4\n",
      "Fleet and Inventory                                    4\n",
      "CFOD - Information Technology                          1\n",
      "PD - Calgary Approvals Coordination                    1\n",
      "Name: count, Length: 77, dtype: int64\n"
     ]
    }
   ],
   "source": [
    "agency_unique_values_cnt=data['agency_responsible'].value_counts()\n",
    "print(agency_unique_values_cnt)"
   ]
  },
  {
   "cell_type": "code",
   "execution_count": 25,
   "id": "22cd2a2a-981a-4b97-b1bf-c2eb67ffb23a",
   "metadata": {},
   "outputs": [
    {
     "name": "stdout",
     "output_type": "stream",
     "text": [
      "['CFOD' 'CS' 'OS' 'TRAN' 'UEP' 'PD' 'CPFS'\n",
      " 'Corporate Wide Service Requests' 'PICS' 'Tranc' 'Partnerships' 'DCMO'\n",
      " 'LL' 'Uepc' 'Recreation and Social Programs' 'PDS' 'Elected Officials'\n",
      " 'IS' 'LLSS' 'OSC' 'Affiliated Organizations' 'AO' 'Fleet and Inventory'\n",
      " 'Office of the City Auditor' nan]\n"
     ]
    }
   ],
   "source": [
    "data['new_agencyResponsible'] = data['agency_responsible'].str.split(' -').str[0] \n",
    "ag_unique_values = data['new_agencyResponsible'].unique()\n",
    "print(ag_unique_values)"
   ]
  },
  {
   "cell_type": "code",
   "execution_count": 26,
   "id": "d3a763a7-3f1a-4c26-abac-eac395c47b72",
   "metadata": {},
   "outputs": [
    {
     "name": "stdout",
     "output_type": "stream",
     "text": [
      "Number of Unique values:  24\n",
      "new_agencyResponsible\n",
      "OS                                 478338\n",
      "CS                                 272992\n",
      "CPFS                                96809\n",
      "PDS                                 86972\n",
      "UEP                                 32318\n",
      "TRAN                                28746\n",
      "CFOD                                23488\n",
      "PICS                                23179\n",
      "PD                                  22525\n",
      "OSC                                  7622\n",
      "Corporate Wide Service Requests      5152\n",
      "IS                                   5069\n",
      "Recreation and Social Programs       3029\n",
      "LLSS                                 2393\n",
      "Uepc                                 2300\n",
      "Tranc                                1228\n",
      "DCMO                                  537\n",
      "LL                                    477\n",
      "Elected Officials                     367\n",
      "AO                                    118\n",
      "Partnerships                           40\n",
      "Affiliated Organizations                5\n",
      "Office of the City Auditor              5\n",
      "Fleet and Inventory                     4\n",
      "Name: count, dtype: int64\n"
     ]
    }
   ],
   "source": [
    "ag_unique_values = data['new_agencyResponsible'].nunique()\n",
    "print(\"Number of Unique values: \",ag_unique_values)\n",
    "ag_unique_values_cnt = data['new_agencyResponsible'].value_counts()\n",
    "print(ag_unique_values_cnt)"
   ]
  },
  {
   "cell_type": "code",
   "execution_count": 27,
   "id": "71986751-2777-401f-b884-c2152b2c58b7",
   "metadata": {},
   "outputs": [],
   "source": [
    "data.to_csv('311_service_2yr_basic.csv', index=False)"
   ]
  },
  {
   "cell_type": "code",
   "execution_count": null,
   "id": "2021bdab-7e2d-4c7d-b9ea-fd4bb21dd9f0",
   "metadata": {},
   "outputs": [],
   "source": []
  }
 ],
 "metadata": {
  "kernelspec": {
   "display_name": "Python 3 (ipykernel)",
   "language": "python",
   "name": "python3"
  },
  "language_info": {
   "codemirror_mode": {
    "name": "ipython",
    "version": 3
   },
   "file_extension": ".py",
   "mimetype": "text/x-python",
   "name": "python",
   "nbconvert_exporter": "python",
   "pygments_lexer": "ipython3",
   "version": "3.12.7"
  }
 },
 "nbformat": 4,
 "nbformat_minor": 5
}
