{
  "nbformat": 4,
  "nbformat_minor": 0,
  "metadata": {
    "colab": {
      "provenance": []
    },
    "kernelspec": {
      "name": "python3",
      "display_name": "Python 3"
    },
    "language_info": {
      "name": "python"
    }
  },
  "cells": [
    {
      "cell_type": "code",
      "execution_count": null,
      "metadata": {
        "id": "Lb0vAnh3z1uI"
      },
      "outputs": [],
      "source": [
        "import pandas as pd\n",
        "import numpy as np\n",
        "import re\n",
        "import seaborn as sns\n",
        "import matplotlib.pyplot as plt\n",
        "from datetime import datetime\n",
        "import pytz"
      ]
    },
    {
      "cell_type": "code",
      "source": [
        "from google.colab import drive\n",
        "drive.mount('/content/drive')"
      ],
      "metadata": {
        "colab": {
          "base_uri": "https://localhost:8080/"
        },
        "id": "Qtj2zDLW0fAK",
        "outputId": "28c1e89b-9dd4-440d-83fd-bf33d81a8b9c"
      },
      "execution_count": null,
      "outputs": [
        {
          "output_type": "stream",
          "name": "stdout",
          "text": [
            "Drive already mounted at /content/drive; to attempt to forcibly remount, call drive.mount(\"/content/drive\", force_remount=True).\n"
          ]
        }
      ]
    },
    {
      "cell_type": "code",
      "source": [
        "df=pd.read_csv(\"/content/drive/MyDrive/311SerivceRequest_dataset/311_Service_Requests_2yrs.csv\")\n",
        "df.shape"
      ],
      "metadata": {
        "colab": {
          "base_uri": "https://localhost:8080/"
        },
        "id": "Gj5AnfNq0s7T",
        "outputId": "0fd3af68-8375-4205-e597-14969f5aaa40"
      },
      "execution_count": null,
      "outputs": [
        {
          "output_type": "execute_result",
          "data": {
            "text/plain": [
              "(1093918, 15)"
            ]
          },
          "metadata": {},
          "execution_count": 24
        }
      ]
    },
    {
      "cell_type": "code",
      "source": [
        "df = df.iloc[:1062842]\n",
        "df.shape"
      ],
      "metadata": {
        "colab": {
          "base_uri": "https://localhost:8080/"
        },
        "id": "ZYbaLDfG0abS",
        "outputId": "e4d3b49e-eaa1-46a2-eee4-e282164bc0be"
      },
      "execution_count": null,
      "outputs": [
        {
          "output_type": "execute_result",
          "data": {
            "text/plain": [
              "(1062842, 15)"
            ]
          },
          "metadata": {},
          "execution_count": 25
        }
      ]
    },
    {
      "cell_type": "code",
      "source": [
        "df.info()"
      ],
      "metadata": {
        "colab": {
          "base_uri": "https://localhost:8080/"
        },
        "id": "VDnWTWVS1PJ3",
        "outputId": "45fb53ac-d029-479b-b844-82f83776e7e5"
      },
      "execution_count": null,
      "outputs": [
        {
          "output_type": "stream",
          "name": "stdout",
          "text": [
            "<class 'pandas.core.frame.DataFrame'>\n",
            "RangeIndex: 1062842 entries, 0 to 1062841\n",
            "Data columns (total 15 columns):\n",
            " #   Column              Non-Null Count    Dtype  \n",
            "---  ------              --------------    -----  \n",
            " 0   service_request_id  1062842 non-null  object \n",
            " 1   requested_date      1062842 non-null  object \n",
            " 2   updated_date        1062842 non-null  object \n",
            " 3   closed_date         1030749 non-null  object \n",
            " 4   status_description  1062842 non-null  object \n",
            " 5   source              1062842 non-null  object \n",
            " 6   service_name        1062842 non-null  object \n",
            " 7   agency_responsible  1062684 non-null  object \n",
            " 8   address             0 non-null        float64\n",
            " 9   comm_code           989008 non-null   object \n",
            " 10  comm_name           989009 non-null   object \n",
            " 11  location_type       989216 non-null   object \n",
            " 12  longitude           988997 non-null   float64\n",
            " 13  latitude            988997 non-null   float64\n",
            " 14  point               988997 non-null   object \n",
            "dtypes: float64(3), object(12)\n",
            "memory usage: 121.6+ MB\n"
          ]
        }
      ]
    },
    {
      "cell_type": "code",
      "source": [
        "missing_values = df.isna().sum()\n",
        "missing_values"
      ],
      "metadata": {
        "colab": {
          "base_uri": "https://localhost:8080/",
          "height": 554
        },
        "id": "1yVEYP3l1dHV",
        "outputId": "fcde173b-18fb-4717-f72e-16774ccb0a86"
      },
      "execution_count": null,
      "outputs": [
        {
          "output_type": "execute_result",
          "data": {
            "text/plain": [
              "service_request_id          0\n",
              "requested_date              0\n",
              "updated_date                0\n",
              "closed_date             32093\n",
              "status_description          0\n",
              "source                      0\n",
              "service_name                0\n",
              "agency_responsible        158\n",
              "address               1062842\n",
              "comm_code               73834\n",
              "comm_name               73833\n",
              "location_type           73626\n",
              "longitude               73845\n",
              "latitude                73845\n",
              "point                   73845\n",
              "dtype: int64"
            ],
            "text/html": [
              "<div>\n",
              "<style scoped>\n",
              "    .dataframe tbody tr th:only-of-type {\n",
              "        vertical-align: middle;\n",
              "    }\n",
              "\n",
              "    .dataframe tbody tr th {\n",
              "        vertical-align: top;\n",
              "    }\n",
              "\n",
              "    .dataframe thead th {\n",
              "        text-align: right;\n",
              "    }\n",
              "</style>\n",
              "<table border=\"1\" class=\"dataframe\">\n",
              "  <thead>\n",
              "    <tr style=\"text-align: right;\">\n",
              "      <th></th>\n",
              "      <th>0</th>\n",
              "    </tr>\n",
              "  </thead>\n",
              "  <tbody>\n",
              "    <tr>\n",
              "      <th>service_request_id</th>\n",
              "      <td>0</td>\n",
              "    </tr>\n",
              "    <tr>\n",
              "      <th>requested_date</th>\n",
              "      <td>0</td>\n",
              "    </tr>\n",
              "    <tr>\n",
              "      <th>updated_date</th>\n",
              "      <td>0</td>\n",
              "    </tr>\n",
              "    <tr>\n",
              "      <th>closed_date</th>\n",
              "      <td>32093</td>\n",
              "    </tr>\n",
              "    <tr>\n",
              "      <th>status_description</th>\n",
              "      <td>0</td>\n",
              "    </tr>\n",
              "    <tr>\n",
              "      <th>source</th>\n",
              "      <td>0</td>\n",
              "    </tr>\n",
              "    <tr>\n",
              "      <th>service_name</th>\n",
              "      <td>0</td>\n",
              "    </tr>\n",
              "    <tr>\n",
              "      <th>agency_responsible</th>\n",
              "      <td>158</td>\n",
              "    </tr>\n",
              "    <tr>\n",
              "      <th>address</th>\n",
              "      <td>1062842</td>\n",
              "    </tr>\n",
              "    <tr>\n",
              "      <th>comm_code</th>\n",
              "      <td>73834</td>\n",
              "    </tr>\n",
              "    <tr>\n",
              "      <th>comm_name</th>\n",
              "      <td>73833</td>\n",
              "    </tr>\n",
              "    <tr>\n",
              "      <th>location_type</th>\n",
              "      <td>73626</td>\n",
              "    </tr>\n",
              "    <tr>\n",
              "      <th>longitude</th>\n",
              "      <td>73845</td>\n",
              "    </tr>\n",
              "    <tr>\n",
              "      <th>latitude</th>\n",
              "      <td>73845</td>\n",
              "    </tr>\n",
              "    <tr>\n",
              "      <th>point</th>\n",
              "      <td>73845</td>\n",
              "    </tr>\n",
              "  </tbody>\n",
              "</table>\n",
              "</div><br><label><b>dtype:</b> int64</label>"
            ]
          },
          "metadata": {},
          "execution_count": 27
        }
      ]
    },
    {
      "cell_type": "code",
      "source": [
        "df = df.drop(columns=['address','location_type'],axis = 1)"
      ],
      "metadata": {
        "id": "sBGiNQ4v1lUv"
      },
      "execution_count": null,
      "outputs": []
    },
    {
      "cell_type": "code",
      "source": [
        "# Deriving new columns from requested date\n",
        "\n",
        "df['requested_date'] = pd.to_datetime(df['requested_date'], format = '%Y/%m/%d %I:%M:%S %p')\n",
        "print(f\"Data type of 'requested_date': {df['requested_date'].dtype}\")\n",
        "\n",
        "df['request_year'] = df['requested_date'].dt.year\n",
        "df['request_month'] = df['requested_date'].dt.month\n",
        "df['request_day'] = df['requested_date'].dt.day\n",
        "\n",
        "df['updated_date'] = pd.to_datetime(df['updated_date'], format = '%Y/%m/%d %I:%M:%S %p')\n",
        "\n",
        "df['update_year'] = df['updated_date'].dt.year\n",
        "df['update_month'] = df['updated_date'].dt.month\n",
        "df['update_day'] = df['updated_date'].dt.day\n",
        "\n",
        "\n",
        "\n",
        "df['closed_date'] = pd.to_datetime(df['closed_date'], format = '%Y/%m/%d %I:%M:%S %p')\n",
        "print(\"Dataype:\", df['closed_date'].dtype)\n",
        "\n",
        "# Converting null values to NaT\n",
        "df['closed_date'] = df['closed_date'].fillna(pd.NaT)\n",
        "\n",
        "\n",
        "df['closed_year'] = df['closed_date'].dt.year\n",
        "df['closed_month'] = df['closed_date'].dt.month\n",
        "df['closed_day'] = df['closed_date'].dt.day\n",
        "\n",
        "# Replacing null values in derived columns with 0 and converting the column values to int type\n",
        "\n",
        "df.loc[df['closed_date'].isna(), ['closed_year', 'closed_month', 'closed_day']] = 0\n",
        "df[['closed_year', 'closed_month', 'closed_day']] = df[['closed_year', 'closed_month', 'closed_day']].astype('Int32')\n",
        "\n",
        "df.info()"
      ],
      "metadata": {
        "colab": {
          "base_uri": "https://localhost:8080/"
        },
        "id": "CywSWx2C1tZk",
        "outputId": "11b58169-c160-4043-932f-75198a01b90f"
      },
      "execution_count": null,
      "outputs": [
        {
          "output_type": "stream",
          "name": "stdout",
          "text": [
            "Data type of 'requested_date': datetime64[ns]\n",
            "Dataype: datetime64[ns]\n",
            "<class 'pandas.core.frame.DataFrame'>\n",
            "RangeIndex: 1062842 entries, 0 to 1062841\n",
            "Data columns (total 22 columns):\n",
            " #   Column              Non-Null Count    Dtype         \n",
            "---  ------              --------------    -----         \n",
            " 0   service_request_id  1062842 non-null  object        \n",
            " 1   requested_date      1062842 non-null  datetime64[ns]\n",
            " 2   updated_date        1062842 non-null  datetime64[ns]\n",
            " 3   closed_date         1030749 non-null  datetime64[ns]\n",
            " 4   status_description  1062842 non-null  object        \n",
            " 5   source              1062842 non-null  object        \n",
            " 6   service_name        1062842 non-null  object        \n",
            " 7   agency_responsible  1062684 non-null  object        \n",
            " 8   comm_code           989008 non-null   object        \n",
            " 9   comm_name           989009 non-null   object        \n",
            " 10  longitude           988997 non-null   float64       \n",
            " 11  latitude            988997 non-null   float64       \n",
            " 12  point               988997 non-null   object        \n",
            " 13  request_year        1062842 non-null  int32         \n",
            " 14  request_month       1062842 non-null  int32         \n",
            " 15  request_day         1062842 non-null  int32         \n",
            " 16  update_year         1062842 non-null  int32         \n",
            " 17  update_month        1062842 non-null  int32         \n",
            " 18  update_day          1062842 non-null  int32         \n",
            " 19  closed_year         1062842 non-null  Int32         \n",
            " 20  closed_month        1062842 non-null  Int32         \n",
            " 21  closed_day          1062842 non-null  Int32         \n",
            "dtypes: Int32(3), datetime64[ns](3), float64(2), int32(6), object(8)\n",
            "memory usage: 144.9+ MB\n"
          ]
        }
      ]
    },
    {
      "cell_type": "code",
      "source": [
        "# Calculating closing delay and creating new inttype column for closing delay\n",
        "\n",
        "df['closing_delay'] = df['closed_date'] - df['requested_date']\n",
        "print(\"1\",df['closing_delay'].dtype)\n",
        "df['closing_delay'] = df['closing_delay'].dt.days\n",
        "print(df['closing_delay'].dtype)\n",
        "df['closing_delay'] = df['closing_delay'].astype('Int64')\n",
        "\n",
        "print(df['closing_delay'].dtype)"
      ],
      "metadata": {
        "colab": {
          "base_uri": "https://localhost:8080/"
        },
        "id": "q2KU2e3A2Vdd",
        "outputId": "24851445-390f-4b50-94d8-8b0c12994ed4"
      },
      "execution_count": null,
      "outputs": [
        {
          "output_type": "stream",
          "name": "stdout",
          "text": [
            "1 timedelta64[ns]\n",
            "float64\n",
            "Int64\n"
          ]
        }
      ]
    },
    {
      "cell_type": "code",
      "source": [
        "df['duplicate_request'] = df['status_description'].str.contains(r'Duplicate \\(Closed\\)', regex=True)\n",
        "\n",
        "# Convert the boolean values to 'Yes'/'No'\n",
        "df['duplicate_request'] = df['duplicate_request'].replace({True: 'Yes', False: 'No'})"
      ],
      "metadata": {
        "id": "SNvlTsgy2blC"
      },
      "execution_count": null,
      "outputs": []
    },
    {
      "cell_type": "code",
      "source": [
        "# Season Categorisation of \"Requests\"\n",
        "\n",
        "# Defining Calgary's timezone\n",
        "calgary_tz = pytz.timezone('America/Edmonton')\n",
        "\n",
        "# Exact UTC times for solstices and equinoxes (taken from Govt of Canada Website)\n",
        "\n",
        "seasons_utc = {\n",
        "    'Spring_2023': '2023-03-20 21:24:00',\n",
        "    'Summer_2023': '2023-06-21 14:57:00',\n",
        "    'Autumn_2023': '2023-09-23 06:50:00',\n",
        "    'Winter_2023': '2023-12-22 03:27:00',\n",
        "    'Spring_2024': '2024-03-20 03:06:00',\n",
        "    'Summer_2024': '2024-06-20 20:50:00',\n",
        "    'Autumn_2024': '2024-09-22 12:43:00',\n",
        "    'Winter_2024': '2024-12-21 09:20:00'\n",
        "}\n",
        "\n",
        "# Converting the UTC times to Calgary local time\n",
        "\n",
        "seasons = {}\n",
        "\n",
        "for season, utc_time_str in seasons_utc.items():\n",
        "\n",
        "    # Converting the UTC string into a datetime object\n",
        "\n",
        "    utc_time = datetime.strptime(utc_time_str, '%Y-%m-%d %H:%M:%S')\n",
        "    utc_time = pytz.utc.localize(utc_time)\n",
        "\n",
        "    # Converting to Calgary local time\n",
        "    local_time = utc_time.astimezone(calgary_tz)\n",
        "\n",
        "    # Saving the result in the dictionary\n",
        "    seasons[season] = local_time\n",
        "\n",
        "for key, value in seasons.items():\n",
        "#print(f\"{key}: {value.strftime('%Y-%m-%d %H:%M:%S')}\")\n",
        "    print(f\"{key}: {value}\")"
      ],
      "metadata": {
        "colab": {
          "base_uri": "https://localhost:8080/"
        },
        "id": "ycsNdIxt2jFE",
        "outputId": "67546da0-00de-4e4a-fac9-69a761a8dde6"
      },
      "execution_count": null,
      "outputs": [
        {
          "output_type": "stream",
          "name": "stdout",
          "text": [
            "Spring_2023: 2023-03-20 15:24:00-06:00\n",
            "Summer_2023: 2023-06-21 08:57:00-06:00\n",
            "Autumn_2023: 2023-09-23 00:50:00-06:00\n",
            "Winter_2023: 2023-12-21 20:27:00-07:00\n",
            "Spring_2024: 2024-03-19 21:06:00-06:00\n",
            "Summer_2024: 2024-06-20 14:50:00-06:00\n",
            "Autumn_2024: 2024-09-22 06:43:00-06:00\n",
            "Winter_2024: 2024-12-21 02:20:00-07:00\n"
          ]
        }
      ]
    },
    {
      "cell_type": "code",
      "source": [
        "if df['requested_date'].dt.tz is None:\n",
        "    df['new_requested_date'] = df['requested_date'].dt.tz_localize('America/Edmonton')\n",
        "\n",
        "print(df['new_requested_date'].head())"
      ],
      "metadata": {
        "colab": {
          "base_uri": "https://localhost:8080/"
        },
        "id": "C_tXgtKp2jzG",
        "outputId": "94143b74-728c-4e3a-a9a6-96ad2aaf2af2"
      },
      "execution_count": null,
      "outputs": [
        {
          "output_type": "stream",
          "name": "stdout",
          "text": [
            "0   2023-01-02 00:00:00-07:00\n",
            "1   2023-01-02 00:00:00-07:00\n",
            "2   2023-01-02 00:00:00-07:00\n",
            "3   2023-01-02 00:00:00-07:00\n",
            "4   2023-01-02 00:00:00-07:00\n",
            "Name: new_requested_date, dtype: datetime64[ns, America/Edmonton]\n"
          ]
        }
      ]
    },
    {
      "cell_type": "code",
      "source": [
        "def get_season(request_date):\n",
        "    for season, season_date in seasons.items():\n",
        "        if request_date < season_date:\n",
        "            return season\n",
        "    return 'Winter_2024'\n",
        "\n",
        "df['Season'] = df['new_requested_date'].apply(get_season)"
      ],
      "metadata": {
        "id": "QAzE0_Zq2mqK"
      },
      "execution_count": null,
      "outputs": []
    },
    {
      "cell_type": "code",
      "source": [
        "statistics_closing_delay = df['closing_delay'].describe()\n",
        "print(statistics_closing_delay)"
      ],
      "metadata": {
        "colab": {
          "base_uri": "https://localhost:8080/"
        },
        "id": "7uP8khIA2ukg",
        "outputId": "13e07ed1-70e5-4a1c-a936-ae35a13aa655"
      },
      "execution_count": null,
      "outputs": [
        {
          "output_type": "stream",
          "name": "stdout",
          "text": [
            "count    1030749.0\n",
            "mean     12.630157\n",
            "std      39.587334\n",
            "min            0.0\n",
            "25%            1.0\n",
            "50%            3.0\n",
            "75%            8.0\n",
            "max          740.0\n",
            "Name: closing_delay, dtype: Float64\n"
          ]
        }
      ]
    },
    {
      "cell_type": "code",
      "source": [
        "filtered_df = df[df['status_description'] == 'Open' ]\n",
        "grouped_data = filtered_df.groupby('status_description')['closed_date']\n",
        "pd.set_option('display.max_rows', None)\n",
        "grouped_data.tail()"
      ],
      "metadata": {
        "colab": {
          "base_uri": "https://localhost:8080/",
          "height": 241
        },
        "id": "CoVtSuI7264q",
        "outputId": "af7ff617-01c9-482c-f585-209762c3eb36"
      },
      "execution_count": null,
      "outputs": [
        {
          "output_type": "execute_result",
          "data": {
            "text/plain": [
              "1062821          NaT\n",
              "1062822          NaT\n",
              "1062824          NaT\n",
              "1062832          NaT\n",
              "1062839   2025-01-02\n",
              "Name: closed_date, dtype: datetime64[ns]"
            ],
            "text/html": [
              "<div>\n",
              "<style scoped>\n",
              "    .dataframe tbody tr th:only-of-type {\n",
              "        vertical-align: middle;\n",
              "    }\n",
              "\n",
              "    .dataframe tbody tr th {\n",
              "        vertical-align: top;\n",
              "    }\n",
              "\n",
              "    .dataframe thead th {\n",
              "        text-align: right;\n",
              "    }\n",
              "</style>\n",
              "<table border=\"1\" class=\"dataframe\">\n",
              "  <thead>\n",
              "    <tr style=\"text-align: right;\">\n",
              "      <th></th>\n",
              "      <th>closed_date</th>\n",
              "    </tr>\n",
              "  </thead>\n",
              "  <tbody>\n",
              "    <tr>\n",
              "      <th>1062821</th>\n",
              "      <td>NaT</td>\n",
              "    </tr>\n",
              "    <tr>\n",
              "      <th>1062822</th>\n",
              "      <td>NaT</td>\n",
              "    </tr>\n",
              "    <tr>\n",
              "      <th>1062824</th>\n",
              "      <td>NaT</td>\n",
              "    </tr>\n",
              "    <tr>\n",
              "      <th>1062832</th>\n",
              "      <td>NaT</td>\n",
              "    </tr>\n",
              "    <tr>\n",
              "      <th>1062839</th>\n",
              "      <td>2025-01-02</td>\n",
              "    </tr>\n",
              "  </tbody>\n",
              "</table>\n",
              "</div><br><label><b>dtype:</b> datetime64[ns]</label>"
            ]
          },
          "metadata": {},
          "execution_count": 36
        }
      ]
    },
    {
      "cell_type": "code",
      "source": [
        "df['modified_status'] = df.apply(\n",
        "   lambda row: 'Closed' if pd.notna(row['closed_date']) and row['status_description'] == 'Open'\n",
        "    else ('Duplicate (Closed)' if pd.notna(row['closed_date']) and row['status_description'] == 'Duplicate (Open)'\n",
        "          else row['status_description']), axis=1\n",
        ")\n",
        "df.tail()"
      ],
      "metadata": {
        "colab": {
          "base_uri": "https://localhost:8080/",
          "height": 429
        },
        "id": "rui9CFvB4i2J",
        "outputId": "042ff122-ef37-4487-d0e1-7e2a73e259bf"
      },
      "execution_count": null,
      "outputs": [
        {
          "output_type": "execute_result",
          "data": {
            "text/plain": [
              "        service_request_id requested_date updated_date closed_date  \\\n",
              "1062837        24-00979069     2024-12-31   2025-01-27  2025-01-27   \n",
              "1062838        24-00978685     2024-12-31   2025-01-21  2025-01-21   \n",
              "1062839        24-00977260     2024-12-31   2025-01-21  2025-01-02   \n",
              "1062840        24-00978925     2024-12-31   2025-01-21  2025-01-21   \n",
              "1062841        24-00977424     2024-12-31   2025-01-22  2025-01-22   \n",
              "\n",
              "        status_description source                       service_name  \\\n",
              "1062837             Closed  Other     DBBS - RIM - Property Research   \n",
              "1062838             Closed  Other           Bylaw - Vehicle Concerns   \n",
              "1062839               Open  Other              WRS - Cart Management   \n",
              "1062840             Closed  Other        CT AC - Trip Feedback - CTA   \n",
              "1062841             Closed  Other  WRS - Collection Schedule Inquiry   \n",
              "\n",
              "                                        agency_responsible comm_code  \\\n",
              "1062837  PDS - Development, Business and Building Services       ASP   \n",
              "1062838     CS - Emergency Management and Community Safety       TEM   \n",
              "1062839                  OS - Waste and Recycling Services       HUN   \n",
              "1062840                               OS - Calgary Transit       DNW   \n",
              "1062841                  OS - Waste and Recycling Services       SET   \n",
              "\n",
              "                 comm_name  ...  update_month  update_day closed_year  \\\n",
              "1062837        ASPEN WOODS  ...             1          27        2025   \n",
              "1062838             TEMPLE  ...             1          21        2025   \n",
              "1062839   HUNTINGTON HILLS  ...             1          21        2025   \n",
              "1062840  DOWNTOWN WEST END  ...             1          21        2025   \n",
              "1062841              SETON  ...             1          22        2025   \n",
              "\n",
              "         closed_month  closed_day  closing_delay  duplicate_request  \\\n",
              "1062837             1          27             27                 No   \n",
              "1062838             1          21             21                 No   \n",
              "1062839             1           2              2                 No   \n",
              "1062840             1          21             21                 No   \n",
              "1062841             1          22             22                 No   \n",
              "\n",
              "               new_requested_date       Season  modified_status  \n",
              "1062837 2024-12-31 00:00:00-07:00  Winter_2024           Closed  \n",
              "1062838 2024-12-31 00:00:00-07:00  Winter_2024           Closed  \n",
              "1062839 2024-12-31 00:00:00-07:00  Winter_2024           Closed  \n",
              "1062840 2024-12-31 00:00:00-07:00  Winter_2024           Closed  \n",
              "1062841 2024-12-31 00:00:00-07:00  Winter_2024           Closed  \n",
              "\n",
              "[5 rows x 27 columns]"
            ],
            "text/html": [
              "\n",
              "  <div id=\"df-4f6c029d-8f77-4d4d-8b18-d4f8f7e7a3f6\" class=\"colab-df-container\">\n",
              "    <div>\n",
              "<style scoped>\n",
              "    .dataframe tbody tr th:only-of-type {\n",
              "        vertical-align: middle;\n",
              "    }\n",
              "\n",
              "    .dataframe tbody tr th {\n",
              "        vertical-align: top;\n",
              "    }\n",
              "\n",
              "    .dataframe thead th {\n",
              "        text-align: right;\n",
              "    }\n",
              "</style>\n",
              "<table border=\"1\" class=\"dataframe\">\n",
              "  <thead>\n",
              "    <tr style=\"text-align: right;\">\n",
              "      <th></th>\n",
              "      <th>service_request_id</th>\n",
              "      <th>requested_date</th>\n",
              "      <th>updated_date</th>\n",
              "      <th>closed_date</th>\n",
              "      <th>status_description</th>\n",
              "      <th>source</th>\n",
              "      <th>service_name</th>\n",
              "      <th>agency_responsible</th>\n",
              "      <th>comm_code</th>\n",
              "      <th>comm_name</th>\n",
              "      <th>...</th>\n",
              "      <th>update_month</th>\n",
              "      <th>update_day</th>\n",
              "      <th>closed_year</th>\n",
              "      <th>closed_month</th>\n",
              "      <th>closed_day</th>\n",
              "      <th>closing_delay</th>\n",
              "      <th>duplicate_request</th>\n",
              "      <th>new_requested_date</th>\n",
              "      <th>Season</th>\n",
              "      <th>modified_status</th>\n",
              "    </tr>\n",
              "  </thead>\n",
              "  <tbody>\n",
              "    <tr>\n",
              "      <th>1062837</th>\n",
              "      <td>24-00979069</td>\n",
              "      <td>2024-12-31</td>\n",
              "      <td>2025-01-27</td>\n",
              "      <td>2025-01-27</td>\n",
              "      <td>Closed</td>\n",
              "      <td>Other</td>\n",
              "      <td>DBBS - RIM - Property Research</td>\n",
              "      <td>PDS - Development, Business and Building Services</td>\n",
              "      <td>ASP</td>\n",
              "      <td>ASPEN WOODS</td>\n",
              "      <td>...</td>\n",
              "      <td>1</td>\n",
              "      <td>27</td>\n",
              "      <td>2025</td>\n",
              "      <td>1</td>\n",
              "      <td>27</td>\n",
              "      <td>27</td>\n",
              "      <td>No</td>\n",
              "      <td>2024-12-31 00:00:00-07:00</td>\n",
              "      <td>Winter_2024</td>\n",
              "      <td>Closed</td>\n",
              "    </tr>\n",
              "    <tr>\n",
              "      <th>1062838</th>\n",
              "      <td>24-00978685</td>\n",
              "      <td>2024-12-31</td>\n",
              "      <td>2025-01-21</td>\n",
              "      <td>2025-01-21</td>\n",
              "      <td>Closed</td>\n",
              "      <td>Other</td>\n",
              "      <td>Bylaw - Vehicle Concerns</td>\n",
              "      <td>CS - Emergency Management and Community Safety</td>\n",
              "      <td>TEM</td>\n",
              "      <td>TEMPLE</td>\n",
              "      <td>...</td>\n",
              "      <td>1</td>\n",
              "      <td>21</td>\n",
              "      <td>2025</td>\n",
              "      <td>1</td>\n",
              "      <td>21</td>\n",
              "      <td>21</td>\n",
              "      <td>No</td>\n",
              "      <td>2024-12-31 00:00:00-07:00</td>\n",
              "      <td>Winter_2024</td>\n",
              "      <td>Closed</td>\n",
              "    </tr>\n",
              "    <tr>\n",
              "      <th>1062839</th>\n",
              "      <td>24-00977260</td>\n",
              "      <td>2024-12-31</td>\n",
              "      <td>2025-01-21</td>\n",
              "      <td>2025-01-02</td>\n",
              "      <td>Open</td>\n",
              "      <td>Other</td>\n",
              "      <td>WRS - Cart Management</td>\n",
              "      <td>OS - Waste and Recycling Services</td>\n",
              "      <td>HUN</td>\n",
              "      <td>HUNTINGTON HILLS</td>\n",
              "      <td>...</td>\n",
              "      <td>1</td>\n",
              "      <td>21</td>\n",
              "      <td>2025</td>\n",
              "      <td>1</td>\n",
              "      <td>2</td>\n",
              "      <td>2</td>\n",
              "      <td>No</td>\n",
              "      <td>2024-12-31 00:00:00-07:00</td>\n",
              "      <td>Winter_2024</td>\n",
              "      <td>Closed</td>\n",
              "    </tr>\n",
              "    <tr>\n",
              "      <th>1062840</th>\n",
              "      <td>24-00978925</td>\n",
              "      <td>2024-12-31</td>\n",
              "      <td>2025-01-21</td>\n",
              "      <td>2025-01-21</td>\n",
              "      <td>Closed</td>\n",
              "      <td>Other</td>\n",
              "      <td>CT AC - Trip Feedback - CTA</td>\n",
              "      <td>OS - Calgary Transit</td>\n",
              "      <td>DNW</td>\n",
              "      <td>DOWNTOWN WEST END</td>\n",
              "      <td>...</td>\n",
              "      <td>1</td>\n",
              "      <td>21</td>\n",
              "      <td>2025</td>\n",
              "      <td>1</td>\n",
              "      <td>21</td>\n",
              "      <td>21</td>\n",
              "      <td>No</td>\n",
              "      <td>2024-12-31 00:00:00-07:00</td>\n",
              "      <td>Winter_2024</td>\n",
              "      <td>Closed</td>\n",
              "    </tr>\n",
              "    <tr>\n",
              "      <th>1062841</th>\n",
              "      <td>24-00977424</td>\n",
              "      <td>2024-12-31</td>\n",
              "      <td>2025-01-22</td>\n",
              "      <td>2025-01-22</td>\n",
              "      <td>Closed</td>\n",
              "      <td>Other</td>\n",
              "      <td>WRS - Collection Schedule Inquiry</td>\n",
              "      <td>OS - Waste and Recycling Services</td>\n",
              "      <td>SET</td>\n",
              "      <td>SETON</td>\n",
              "      <td>...</td>\n",
              "      <td>1</td>\n",
              "      <td>22</td>\n",
              "      <td>2025</td>\n",
              "      <td>1</td>\n",
              "      <td>22</td>\n",
              "      <td>22</td>\n",
              "      <td>No</td>\n",
              "      <td>2024-12-31 00:00:00-07:00</td>\n",
              "      <td>Winter_2024</td>\n",
              "      <td>Closed</td>\n",
              "    </tr>\n",
              "  </tbody>\n",
              "</table>\n",
              "<p>5 rows × 27 columns</p>\n",
              "</div>\n",
              "    <div class=\"colab-df-buttons\">\n",
              "\n",
              "  <div class=\"colab-df-container\">\n",
              "    <button class=\"colab-df-convert\" onclick=\"convertToInteractive('df-4f6c029d-8f77-4d4d-8b18-d4f8f7e7a3f6')\"\n",
              "            title=\"Convert this dataframe to an interactive table.\"\n",
              "            style=\"display:none;\">\n",
              "\n",
              "  <svg xmlns=\"http://www.w3.org/2000/svg\" height=\"24px\" viewBox=\"0 -960 960 960\">\n",
              "    <path d=\"M120-120v-720h720v720H120Zm60-500h600v-160H180v160Zm220 220h160v-160H400v160Zm0 220h160v-160H400v160ZM180-400h160v-160H180v160Zm440 0h160v-160H620v160ZM180-180h160v-160H180v160Zm440 0h160v-160H620v160Z\"/>\n",
              "  </svg>\n",
              "    </button>\n",
              "\n",
              "  <style>\n",
              "    .colab-df-container {\n",
              "      display:flex;\n",
              "      gap: 12px;\n",
              "    }\n",
              "\n",
              "    .colab-df-convert {\n",
              "      background-color: #E8F0FE;\n",
              "      border: none;\n",
              "      border-radius: 50%;\n",
              "      cursor: pointer;\n",
              "      display: none;\n",
              "      fill: #1967D2;\n",
              "      height: 32px;\n",
              "      padding: 0 0 0 0;\n",
              "      width: 32px;\n",
              "    }\n",
              "\n",
              "    .colab-df-convert:hover {\n",
              "      background-color: #E2EBFA;\n",
              "      box-shadow: 0px 1px 2px rgba(60, 64, 67, 0.3), 0px 1px 3px 1px rgba(60, 64, 67, 0.15);\n",
              "      fill: #174EA6;\n",
              "    }\n",
              "\n",
              "    .colab-df-buttons div {\n",
              "      margin-bottom: 4px;\n",
              "    }\n",
              "\n",
              "    [theme=dark] .colab-df-convert {\n",
              "      background-color: #3B4455;\n",
              "      fill: #D2E3FC;\n",
              "    }\n",
              "\n",
              "    [theme=dark] .colab-df-convert:hover {\n",
              "      background-color: #434B5C;\n",
              "      box-shadow: 0px 1px 3px 1px rgba(0, 0, 0, 0.15);\n",
              "      filter: drop-shadow(0px 1px 2px rgba(0, 0, 0, 0.3));\n",
              "      fill: #FFFFFF;\n",
              "    }\n",
              "  </style>\n",
              "\n",
              "    <script>\n",
              "      const buttonEl =\n",
              "        document.querySelector('#df-4f6c029d-8f77-4d4d-8b18-d4f8f7e7a3f6 button.colab-df-convert');\n",
              "      buttonEl.style.display =\n",
              "        google.colab.kernel.accessAllowed ? 'block' : 'none';\n",
              "\n",
              "      async function convertToInteractive(key) {\n",
              "        const element = document.querySelector('#df-4f6c029d-8f77-4d4d-8b18-d4f8f7e7a3f6');\n",
              "        const dataTable =\n",
              "          await google.colab.kernel.invokeFunction('convertToInteractive',\n",
              "                                                    [key], {});\n",
              "        if (!dataTable) return;\n",
              "\n",
              "        const docLinkHtml = 'Like what you see? Visit the ' +\n",
              "          '<a target=\"_blank\" href=https://colab.research.google.com/notebooks/data_table.ipynb>data table notebook</a>'\n",
              "          + ' to learn more about interactive tables.';\n",
              "        element.innerHTML = '';\n",
              "        dataTable['output_type'] = 'display_data';\n",
              "        await google.colab.output.renderOutput(dataTable, element);\n",
              "        const docLink = document.createElement('div');\n",
              "        docLink.innerHTML = docLinkHtml;\n",
              "        element.appendChild(docLink);\n",
              "      }\n",
              "    </script>\n",
              "  </div>\n",
              "\n",
              "\n",
              "<div id=\"df-066e202d-3ab9-4885-b416-058a752d4fb0\">\n",
              "  <button class=\"colab-df-quickchart\" onclick=\"quickchart('df-066e202d-3ab9-4885-b416-058a752d4fb0')\"\n",
              "            title=\"Suggest charts\"\n",
              "            style=\"display:none;\">\n",
              "\n",
              "<svg xmlns=\"http://www.w3.org/2000/svg\" height=\"24px\"viewBox=\"0 0 24 24\"\n",
              "     width=\"24px\">\n",
              "    <g>\n",
              "        <path d=\"M19 3H5c-1.1 0-2 .9-2 2v14c0 1.1.9 2 2 2h14c1.1 0 2-.9 2-2V5c0-1.1-.9-2-2-2zM9 17H7v-7h2v7zm4 0h-2V7h2v10zm4 0h-2v-4h2v4z\"/>\n",
              "    </g>\n",
              "</svg>\n",
              "  </button>\n",
              "\n",
              "<style>\n",
              "  .colab-df-quickchart {\n",
              "      --bg-color: #E8F0FE;\n",
              "      --fill-color: #1967D2;\n",
              "      --hover-bg-color: #E2EBFA;\n",
              "      --hover-fill-color: #174EA6;\n",
              "      --disabled-fill-color: #AAA;\n",
              "      --disabled-bg-color: #DDD;\n",
              "  }\n",
              "\n",
              "  [theme=dark] .colab-df-quickchart {\n",
              "      --bg-color: #3B4455;\n",
              "      --fill-color: #D2E3FC;\n",
              "      --hover-bg-color: #434B5C;\n",
              "      --hover-fill-color: #FFFFFF;\n",
              "      --disabled-bg-color: #3B4455;\n",
              "      --disabled-fill-color: #666;\n",
              "  }\n",
              "\n",
              "  .colab-df-quickchart {\n",
              "    background-color: var(--bg-color);\n",
              "    border: none;\n",
              "    border-radius: 50%;\n",
              "    cursor: pointer;\n",
              "    display: none;\n",
              "    fill: var(--fill-color);\n",
              "    height: 32px;\n",
              "    padding: 0;\n",
              "    width: 32px;\n",
              "  }\n",
              "\n",
              "  .colab-df-quickchart:hover {\n",
              "    background-color: var(--hover-bg-color);\n",
              "    box-shadow: 0 1px 2px rgba(60, 64, 67, 0.3), 0 1px 3px 1px rgba(60, 64, 67, 0.15);\n",
              "    fill: var(--button-hover-fill-color);\n",
              "  }\n",
              "\n",
              "  .colab-df-quickchart-complete:disabled,\n",
              "  .colab-df-quickchart-complete:disabled:hover {\n",
              "    background-color: var(--disabled-bg-color);\n",
              "    fill: var(--disabled-fill-color);\n",
              "    box-shadow: none;\n",
              "  }\n",
              "\n",
              "  .colab-df-spinner {\n",
              "    border: 2px solid var(--fill-color);\n",
              "    border-color: transparent;\n",
              "    border-bottom-color: var(--fill-color);\n",
              "    animation:\n",
              "      spin 1s steps(1) infinite;\n",
              "  }\n",
              "\n",
              "  @keyframes spin {\n",
              "    0% {\n",
              "      border-color: transparent;\n",
              "      border-bottom-color: var(--fill-color);\n",
              "      border-left-color: var(--fill-color);\n",
              "    }\n",
              "    20% {\n",
              "      border-color: transparent;\n",
              "      border-left-color: var(--fill-color);\n",
              "      border-top-color: var(--fill-color);\n",
              "    }\n",
              "    30% {\n",
              "      border-color: transparent;\n",
              "      border-left-color: var(--fill-color);\n",
              "      border-top-color: var(--fill-color);\n",
              "      border-right-color: var(--fill-color);\n",
              "    }\n",
              "    40% {\n",
              "      border-color: transparent;\n",
              "      border-right-color: var(--fill-color);\n",
              "      border-top-color: var(--fill-color);\n",
              "    }\n",
              "    60% {\n",
              "      border-color: transparent;\n",
              "      border-right-color: var(--fill-color);\n",
              "    }\n",
              "    80% {\n",
              "      border-color: transparent;\n",
              "      border-right-color: var(--fill-color);\n",
              "      border-bottom-color: var(--fill-color);\n",
              "    }\n",
              "    90% {\n",
              "      border-color: transparent;\n",
              "      border-bottom-color: var(--fill-color);\n",
              "    }\n",
              "  }\n",
              "</style>\n",
              "\n",
              "  <script>\n",
              "    async function quickchart(key) {\n",
              "      const quickchartButtonEl =\n",
              "        document.querySelector('#' + key + ' button');\n",
              "      quickchartButtonEl.disabled = true;  // To prevent multiple clicks.\n",
              "      quickchartButtonEl.classList.add('colab-df-spinner');\n",
              "      try {\n",
              "        const charts = await google.colab.kernel.invokeFunction(\n",
              "            'suggestCharts', [key], {});\n",
              "      } catch (error) {\n",
              "        console.error('Error during call to suggestCharts:', error);\n",
              "      }\n",
              "      quickchartButtonEl.classList.remove('colab-df-spinner');\n",
              "      quickchartButtonEl.classList.add('colab-df-quickchart-complete');\n",
              "    }\n",
              "    (() => {\n",
              "      let quickchartButtonEl =\n",
              "        document.querySelector('#df-066e202d-3ab9-4885-b416-058a752d4fb0 button');\n",
              "      quickchartButtonEl.style.display =\n",
              "        google.colab.kernel.accessAllowed ? 'block' : 'none';\n",
              "    })();\n",
              "  </script>\n",
              "</div>\n",
              "\n",
              "    </div>\n",
              "  </div>\n"
            ],
            "application/vnd.google.colaboratory.intrinsic+json": {
              "type": "dataframe"
            }
          },
          "metadata": {},
          "execution_count": 37
        }
      ]
    },
    {
      "cell_type": "code",
      "source": [
        "missing = df.isna().sum()\n",
        "print(missing)\n",
        "print(df.info())"
      ],
      "metadata": {
        "colab": {
          "base_uri": "https://localhost:8080/"
        },
        "id": "qktrfJyN4i9P",
        "outputId": "ee2ae10c-3a15-4b26-e317-8bae290e95ce"
      },
      "execution_count": null,
      "outputs": [
        {
          "output_type": "stream",
          "name": "stdout",
          "text": [
            "service_request_id        0\n",
            "requested_date            0\n",
            "updated_date              0\n",
            "closed_date           32093\n",
            "status_description        0\n",
            "source                    0\n",
            "service_name              0\n",
            "agency_responsible      158\n",
            "comm_code             73834\n",
            "comm_name             73833\n",
            "longitude             73845\n",
            "latitude              73845\n",
            "point                 73845\n",
            "request_year              0\n",
            "request_month             0\n",
            "request_day               0\n",
            "update_year               0\n",
            "update_month              0\n",
            "update_day                0\n",
            "closed_year               0\n",
            "closed_month              0\n",
            "closed_day                0\n",
            "closing_delay         32093\n",
            "duplicate_request         0\n",
            "new_requested_date        0\n",
            "Season                    0\n",
            "modified_status           0\n",
            "dtype: int64\n",
            "<class 'pandas.core.frame.DataFrame'>\n",
            "RangeIndex: 1062842 entries, 0 to 1062841\n",
            "Data columns (total 27 columns):\n",
            " #   Column              Non-Null Count    Dtype                           \n",
            "---  ------              --------------    -----                           \n",
            " 0   service_request_id  1062842 non-null  object                          \n",
            " 1   requested_date      1062842 non-null  datetime64[ns]                  \n",
            " 2   updated_date        1062842 non-null  datetime64[ns]                  \n",
            " 3   closed_date         1030749 non-null  datetime64[ns]                  \n",
            " 4   status_description  1062842 non-null  object                          \n",
            " 5   source              1062842 non-null  object                          \n",
            " 6   service_name        1062842 non-null  object                          \n",
            " 7   agency_responsible  1062684 non-null  object                          \n",
            " 8   comm_code           989008 non-null   object                          \n",
            " 9   comm_name           989009 non-null   object                          \n",
            " 10  longitude           988997 non-null   float64                         \n",
            " 11  latitude            988997 non-null   float64                         \n",
            " 12  point               988997 non-null   object                          \n",
            " 13  request_year        1062842 non-null  int32                           \n",
            " 14  request_month       1062842 non-null  int32                           \n",
            " 15  request_day         1062842 non-null  int32                           \n",
            " 16  update_year         1062842 non-null  int32                           \n",
            " 17  update_month        1062842 non-null  int32                           \n",
            " 18  update_day          1062842 non-null  int32                           \n",
            " 19  closed_year         1062842 non-null  Int32                           \n",
            " 20  closed_month        1062842 non-null  Int32                           \n",
            " 21  closed_day          1062842 non-null  Int32                           \n",
            " 22  closing_delay       1030749 non-null  Int64                           \n",
            " 23  duplicate_request   1062842 non-null  object                          \n",
            " 24  new_requested_date  1062842 non-null  datetime64[ns, America/Edmonton]\n",
            " 25  Season              1062842 non-null  object                          \n",
            " 26  modified_status     1062842 non-null  object                          \n",
            "dtypes: Int32(3), Int64(1), datetime64[ns, America/Edmonton](1), datetime64[ns](3), float64(2), int32(6), object(11)\n",
            "memory usage: 186.5+ MB\n",
            "None\n"
          ]
        }
      ]
    },
    {
      "cell_type": "code",
      "source": [
        "df.loc[df['agency_responsible'].isnull() & df['service_name'].str.contains('WATR -'), 'agency_responsible'] = 'UEP - Utilities & Environmental Protection'\n",
        "df.loc[df['agency_responsible'].isnull() & df['service_name'].str.contains('PSD -'), 'agency_responsible'] = 'PDS - Planning & Development Services'\n",
        "df.loc[df['agency_responsible'].isnull() & df['service_name'].str.contains('CPI -'), 'agency_responsible'] = 'OSC - Operational Services and Compliance'\n",
        "\n",
        "# agency abbreviations are extracted\n",
        "def extract_division(value):\n",
        "    if pd.isna(value):\n",
        "        return np.nan\n",
        "    parts = value.split('-')\n",
        "    resultStr = parts[0].strip() if '-' in value else value.strip()\n",
        "    return resultStr\n",
        "\n",
        "\n",
        "df['agency_division'] = df['agency_responsible'].apply(extract_division)\n",
        "\n",
        "#Actual agencies or divisions under Calgary Government\n",
        "agency_division = {\n",
        "    'agency_name': ['Affiliated Organizations', 'Chief Financial Officer Department', 'Corporate Wide Service Requests',\n",
        "                    'Calgary Police & Fire Services', 'Community Services', \"Deputy City Manager's Office\",\n",
        "                   'Elected Officials', 'Fleet and Inventory', 'Information Services','Legal or Legislative Services',\n",
        "                   'Office of the City Auditor','Operational Services and Compliance', 'Partnerships',\n",
        "                   'Planning & Development Services','Project Information and Control Systems', 'Recreation and Social Programs',\n",
        "                    'Transportation', 'Utilities & Environmental Protection'],\n",
        "    'abbreviations': [['AO', 'Affiliated Organizations'], ['CFOD'], ['Corporate Wide Service Requests'],\n",
        "                      ['CPFS'],['CS'], ['DCMO'],\n",
        "                      ['Elected Officials'], ['Fleet and Inventory'], ['IS'], ['LL','LLSS'],\n",
        "                      ['Office of the City Auditor'],['OS','OSC'],['Partnerships'],\n",
        "                      ['PD','PDS'],['PICS'],['Recreation and Social Programs'],\n",
        "                      ['TRAN','Tranc'], ['UEP','Uepc']]\n",
        "}\n",
        "\n",
        "\n",
        "# Create a mapping dictionary\n",
        "mapping = {abbreviation: agency_name\n",
        "           for agency_name, abbreviations in zip(agency_division['agency_name'], agency_division['abbreviations'])\n",
        "           for abbreviation in abbreviations}\n",
        "\n",
        "\n",
        "# Replace the agency_division values with actual agency_name or divisions\n",
        "df['agency_division'] = df['agency_division'].map(mapping)\n",
        "agencies= df['agency_division'].unique()\n",
        "# Iterate through each agency division in the list\n",
        "for division in agencies:\n",
        "    subset_df = df[df['agency_division'] == division]\n",
        "\n",
        "    # Split the 'agency_responsible' column at the first hyphen and create 'agency_subdivision'\n",
        "    df.loc[df['agency_division'] == division, 'agency_subdivision'] = subset_df['agency_responsible'].apply(\n",
        "        lambda x: x.split('-', 1)[1] if '-' in x else division\n",
        "    )\n",
        "\n",
        "    # Split the 'service_name' column at the first hyphen and create 'service_category'\n",
        "    df.loc[df['agency_division'] == division, 'service_category'] = subset_df['service_name'].apply(\n",
        "        lambda x: x.split('-', 1)[0] if '-' in x else x\n",
        "    )\n",
        "\n",
        "    # Split the 'service_name' column at the first hyphen and create 'service_request'\n",
        "    df.loc[df['agency_division'] == division, 'service_request'] = subset_df['service_name'].apply(\n",
        "        lambda x: x.split('-', 1)[1] if '-' in x else x\n",
        "    )\n",
        "\n",
        "# Display the updated DataFrame\n",
        "print(df.head(10))\n",
        "\n",
        "\n",
        "print(\"\\n\\033[1m\"+\"Additional Columns created are:\"+\"\\033[0m\")\n",
        "print(\"\\tagency_division\")\n",
        "print(\"\\tagency_subdivision\")\n",
        "print(\"\\tservice_category\")\n",
        "print(\"\\tservice_request\")"
      ],
      "metadata": {
        "colab": {
          "base_uri": "https://localhost:8080/"
        },
        "id": "vmJ3vPL17AIb",
        "outputId": "2bfe515a-5dd9-4fcd-e947-b6d2b6c2f13b"
      },
      "execution_count": null,
      "outputs": [
        {
          "output_type": "stream",
          "name": "stdout",
          "text": [
            "  service_request_id requested_date updated_date closed_date  \\\n",
            "0        23-00000797     2023-01-02   2023-01-10  2023-01-10   \n",
            "1        23-00001045     2023-01-02   2024-01-11  2024-01-11   \n",
            "2        23-00001163     2023-01-02   2023-01-06  2023-01-06   \n",
            "3        23-00001191     2023-01-02   2024-05-19  2023-01-10   \n",
            "4        23-00001584     2023-01-02   2023-01-04  2023-01-04   \n",
            "5        23-00001849     2023-01-02   2024-01-09  2024-01-09   \n",
            "6        23-00001987     2023-01-02   2023-01-03  2023-01-03   \n",
            "7        23-00002055     2023-01-02   2023-01-03  2023-01-03   \n",
            "8        23-00002077     2023-01-02   2023-01-07  2023-01-07   \n",
            "9        23-00002084     2023-01-02   2023-01-02  2023-01-02   \n",
            "\n",
            "  status_description source                             service_name  \\\n",
            "0             Closed  Other  Finance - ONLINE TIPP Agreement Request   \n",
            "1             Closed  Other        Active Living Program Application   \n",
            "2             Closed  Phone     CN - Registered Social Worker Letter   \n",
            "3             Closed  Other                       CT - Lost Property   \n",
            "4             Closed  Other   Recreation - Arena Booking Application   \n",
            "5             Closed  Other        Active Living Program Application   \n",
            "6             Closed  Other              CT AC - Trip Feedback - CTA   \n",
            "7             Closed  Other   REC - Southland Leisure Centre Inquiry   \n",
            "8             Closed  Phone      Parks - Snow and Ice Concerns - WAM   \n",
            "9             Closed  Other                       AS - Pick Up Stray   \n",
            "\n",
            "                    agency_responsible comm_code      comm_name  ...  \\\n",
            "0                       CFOD - Finance       NaN            NaN  ...   \n",
            "1  CS - Recreation and Social Programs       NaN            NaN  ...   \n",
            "2          CS - Calgary Neighbourhoods       NaN            NaN  ...   \n",
            "3                 OS - Calgary Transit       NaN            NaN  ...   \n",
            "4              CS - Calgary Recreation       NaN            NaN  ...   \n",
            "5  CS - Recreation and Social Programs       NaN            NaN  ...   \n",
            "6               TRAN - Calgary Transit       NaN            NaN  ...   \n",
            "7              CS - Calgary Recreation       NaN            NaN  ...   \n",
            "8                   CS - Calgary Parks       MCK  MCKENZIE LAKE  ...   \n",
            "9     CS - Calgary Community Standards       FLN    FOREST LAWN  ...   \n",
            "\n",
            "   closed_day  closing_delay duplicate_request        new_requested_date  \\\n",
            "0          10              8                No 2023-01-02 00:00:00-07:00   \n",
            "1          11            374                No 2023-01-02 00:00:00-07:00   \n",
            "2           6              4                No 2023-01-02 00:00:00-07:00   \n",
            "3          10              8                No 2023-01-02 00:00:00-07:00   \n",
            "4           4              2                No 2023-01-02 00:00:00-07:00   \n",
            "5           9            372                No 2023-01-02 00:00:00-07:00   \n",
            "6           3              1                No 2023-01-02 00:00:00-07:00   \n",
            "7           3              1                No 2023-01-02 00:00:00-07:00   \n",
            "8           7              5                No 2023-01-02 00:00:00-07:00   \n",
            "9           2              0                No 2023-01-02 00:00:00-07:00   \n",
            "\n",
            "        Season  modified_status                      agency_division  \\\n",
            "0  Spring_2023           Closed   Chief Financial Officer Department   \n",
            "1  Spring_2023           Closed                   Community Services   \n",
            "2  Spring_2023           Closed                   Community Services   \n",
            "3  Spring_2023           Closed  Operational Services and Compliance   \n",
            "4  Spring_2023           Closed                   Community Services   \n",
            "5  Spring_2023           Closed                   Community Services   \n",
            "6  Spring_2023           Closed                       Transportation   \n",
            "7  Spring_2023           Closed                   Community Services   \n",
            "8  Spring_2023           Closed                   Community Services   \n",
            "9  Spring_2023           Closed                   Community Services   \n",
            "\n",
            "                agency_subdivision                   service_category  \\\n",
            "0                          Finance                           Finance    \n",
            "1   Recreation and Social Programs  Active Living Program Application   \n",
            "2           Calgary Neighbourhoods                                CN    \n",
            "3                  Calgary Transit                                CT    \n",
            "4               Calgary Recreation                        Recreation    \n",
            "5   Recreation and Social Programs  Active Living Program Application   \n",
            "6                  Calgary Transit                             CT AC    \n",
            "7               Calgary Recreation                               REC    \n",
            "8                    Calgary Parks                             Parks    \n",
            "9      Calgary Community Standards                                AS    \n",
            "\n",
            "                     service_request  \n",
            "0      ONLINE TIPP Agreement Request  \n",
            "1  Active Living Program Application  \n",
            "2    Registered Social Worker Letter  \n",
            "3                      Lost Property  \n",
            "4          Arena Booking Application  \n",
            "5  Active Living Program Application  \n",
            "6                Trip Feedback - CTA  \n",
            "7   Southland Leisure Centre Inquiry  \n",
            "8        Snow and Ice Concerns - WAM  \n",
            "9                      Pick Up Stray  \n",
            "\n",
            "[10 rows x 31 columns]\n",
            "\n",
            "\u001b[1mAdditional Columns created are:\u001b[0m\n",
            "\tagency_division\n",
            "\tagency_subdivision\n",
            "\tservice_category\n",
            "\tservice_request\n"
          ]
        }
      ]
    },
    {
      "cell_type": "code",
      "source": [
        "df.isnull().sum()"
      ],
      "metadata": {
        "colab": {
          "base_uri": "https://localhost:8080/",
          "height": 1000
        },
        "id": "KlPjOKdh5ISJ",
        "outputId": "3ebda8aa-6b24-44d8-ba42-6c34d7ebb5e6"
      },
      "execution_count": null,
      "outputs": [
        {
          "output_type": "execute_result",
          "data": {
            "text/plain": [
              "service_request_id        0\n",
              "requested_date            0\n",
              "updated_date              0\n",
              "closed_date           32093\n",
              "status_description        0\n",
              "source                    0\n",
              "service_name              0\n",
              "agency_responsible        0\n",
              "comm_code             73834\n",
              "comm_name             73833\n",
              "longitude             73845\n",
              "latitude              73845\n",
              "point                 73845\n",
              "request_year              0\n",
              "request_month             0\n",
              "request_day               0\n",
              "update_year               0\n",
              "update_month              0\n",
              "update_day                0\n",
              "closed_year               0\n",
              "closed_month              0\n",
              "closed_day                0\n",
              "closing_delay         32093\n",
              "duplicate_request         0\n",
              "new_requested_date        0\n",
              "Season                    0\n",
              "modified_status           0\n",
              "agency_division           0\n",
              "agency_subdivision        0\n",
              "service_category          0\n",
              "service_request           0\n",
              "dtype: int64"
            ],
            "text/html": [
              "<div>\n",
              "<style scoped>\n",
              "    .dataframe tbody tr th:only-of-type {\n",
              "        vertical-align: middle;\n",
              "    }\n",
              "\n",
              "    .dataframe tbody tr th {\n",
              "        vertical-align: top;\n",
              "    }\n",
              "\n",
              "    .dataframe thead th {\n",
              "        text-align: right;\n",
              "    }\n",
              "</style>\n",
              "<table border=\"1\" class=\"dataframe\">\n",
              "  <thead>\n",
              "    <tr style=\"text-align: right;\">\n",
              "      <th></th>\n",
              "      <th>0</th>\n",
              "    </tr>\n",
              "  </thead>\n",
              "  <tbody>\n",
              "    <tr>\n",
              "      <th>service_request_id</th>\n",
              "      <td>0</td>\n",
              "    </tr>\n",
              "    <tr>\n",
              "      <th>requested_date</th>\n",
              "      <td>0</td>\n",
              "    </tr>\n",
              "    <tr>\n",
              "      <th>updated_date</th>\n",
              "      <td>0</td>\n",
              "    </tr>\n",
              "    <tr>\n",
              "      <th>closed_date</th>\n",
              "      <td>32093</td>\n",
              "    </tr>\n",
              "    <tr>\n",
              "      <th>status_description</th>\n",
              "      <td>0</td>\n",
              "    </tr>\n",
              "    <tr>\n",
              "      <th>source</th>\n",
              "      <td>0</td>\n",
              "    </tr>\n",
              "    <tr>\n",
              "      <th>service_name</th>\n",
              "      <td>0</td>\n",
              "    </tr>\n",
              "    <tr>\n",
              "      <th>agency_responsible</th>\n",
              "      <td>0</td>\n",
              "    </tr>\n",
              "    <tr>\n",
              "      <th>comm_code</th>\n",
              "      <td>73834</td>\n",
              "    </tr>\n",
              "    <tr>\n",
              "      <th>comm_name</th>\n",
              "      <td>73833</td>\n",
              "    </tr>\n",
              "    <tr>\n",
              "      <th>longitude</th>\n",
              "      <td>73845</td>\n",
              "    </tr>\n",
              "    <tr>\n",
              "      <th>latitude</th>\n",
              "      <td>73845</td>\n",
              "    </tr>\n",
              "    <tr>\n",
              "      <th>point</th>\n",
              "      <td>73845</td>\n",
              "    </tr>\n",
              "    <tr>\n",
              "      <th>request_year</th>\n",
              "      <td>0</td>\n",
              "    </tr>\n",
              "    <tr>\n",
              "      <th>request_month</th>\n",
              "      <td>0</td>\n",
              "    </tr>\n",
              "    <tr>\n",
              "      <th>request_day</th>\n",
              "      <td>0</td>\n",
              "    </tr>\n",
              "    <tr>\n",
              "      <th>update_year</th>\n",
              "      <td>0</td>\n",
              "    </tr>\n",
              "    <tr>\n",
              "      <th>update_month</th>\n",
              "      <td>0</td>\n",
              "    </tr>\n",
              "    <tr>\n",
              "      <th>update_day</th>\n",
              "      <td>0</td>\n",
              "    </tr>\n",
              "    <tr>\n",
              "      <th>closed_year</th>\n",
              "      <td>0</td>\n",
              "    </tr>\n",
              "    <tr>\n",
              "      <th>closed_month</th>\n",
              "      <td>0</td>\n",
              "    </tr>\n",
              "    <tr>\n",
              "      <th>closed_day</th>\n",
              "      <td>0</td>\n",
              "    </tr>\n",
              "    <tr>\n",
              "      <th>closing_delay</th>\n",
              "      <td>32093</td>\n",
              "    </tr>\n",
              "    <tr>\n",
              "      <th>duplicate_request</th>\n",
              "      <td>0</td>\n",
              "    </tr>\n",
              "    <tr>\n",
              "      <th>new_requested_date</th>\n",
              "      <td>0</td>\n",
              "    </tr>\n",
              "    <tr>\n",
              "      <th>Season</th>\n",
              "      <td>0</td>\n",
              "    </tr>\n",
              "    <tr>\n",
              "      <th>modified_status</th>\n",
              "      <td>0</td>\n",
              "    </tr>\n",
              "    <tr>\n",
              "      <th>agency_division</th>\n",
              "      <td>0</td>\n",
              "    </tr>\n",
              "    <tr>\n",
              "      <th>agency_subdivision</th>\n",
              "      <td>0</td>\n",
              "    </tr>\n",
              "    <tr>\n",
              "      <th>service_category</th>\n",
              "      <td>0</td>\n",
              "    </tr>\n",
              "    <tr>\n",
              "      <th>service_request</th>\n",
              "      <td>0</td>\n",
              "    </tr>\n",
              "  </tbody>\n",
              "</table>\n",
              "</div><br><label><b>dtype:</b> int64</label>"
            ]
          },
          "metadata": {},
          "execution_count": 40
        }
      ]
    },
    {
      "cell_type": "code",
      "source": [
        "df.info()"
      ],
      "metadata": {
        "id": "AtegNC8xNC7j",
        "colab": {
          "base_uri": "https://localhost:8080/"
        },
        "outputId": "744224ba-fabb-4948-ff8d-6fdcd1d17835"
      },
      "execution_count": null,
      "outputs": [
        {
          "output_type": "stream",
          "name": "stdout",
          "text": [
            "<class 'pandas.core.frame.DataFrame'>\n",
            "RangeIndex: 1062842 entries, 0 to 1062841\n",
            "Data columns (total 31 columns):\n",
            " #   Column              Non-Null Count    Dtype                           \n",
            "---  ------              --------------    -----                           \n",
            " 0   service_request_id  1062842 non-null  object                          \n",
            " 1   requested_date      1062842 non-null  datetime64[ns]                  \n",
            " 2   updated_date        1062842 non-null  datetime64[ns]                  \n",
            " 3   closed_date         1030749 non-null  datetime64[ns]                  \n",
            " 4   status_description  1062842 non-null  object                          \n",
            " 5   source              1062842 non-null  object                          \n",
            " 6   service_name        1062842 non-null  object                          \n",
            " 7   agency_responsible  1062842 non-null  object                          \n",
            " 8   comm_code           989008 non-null   object                          \n",
            " 9   comm_name           989009 non-null   object                          \n",
            " 10  longitude           988997 non-null   float64                         \n",
            " 11  latitude            988997 non-null   float64                         \n",
            " 12  point               988997 non-null   object                          \n",
            " 13  request_year        1062842 non-null  int32                           \n",
            " 14  request_month       1062842 non-null  int32                           \n",
            " 15  request_day         1062842 non-null  int32                           \n",
            " 16  update_year         1062842 non-null  int32                           \n",
            " 17  update_month        1062842 non-null  int32                           \n",
            " 18  update_day          1062842 non-null  int32                           \n",
            " 19  closed_year         1062842 non-null  Int32                           \n",
            " 20  closed_month        1062842 non-null  Int32                           \n",
            " 21  closed_day          1062842 non-null  Int32                           \n",
            " 22  closing_delay       1030749 non-null  Int64                           \n",
            " 23  duplicate_request   1062842 non-null  object                          \n",
            " 24  new_requested_date  1062842 non-null  datetime64[ns, America/Edmonton]\n",
            " 25  Season              1062842 non-null  object                          \n",
            " 26  modified_status     1062842 non-null  object                          \n",
            " 27  agency_division     1062842 non-null  object                          \n",
            " 28  agency_subdivision  1062842 non-null  object                          \n",
            " 29  service_category    1062842 non-null  object                          \n",
            " 30  service_request     1062842 non-null  object                          \n",
            "dtypes: Int32(3), Int64(1), datetime64[ns, America/Edmonton](1), datetime64[ns](3), float64(2), int32(6), object(15)\n",
            "memory usage: 218.9+ MB\n"
          ]
        }
      ]
    },
    {
      "cell_type": "markdown",
      "source": [
        "## Handling null values (longitude, latitude, point)"
      ],
      "metadata": {
        "id": "SDdxtJ-2iJxS"
      }
    },
    {
      "cell_type": "code",
      "source": [
        "print(df['comm_name'].isnull().sum())\n",
        "print(df['comm_code'].isnull().sum())\n",
        "print(df['longitude'].isnull().sum())\n",
        "print(df['latitude'].isnull().sum())\n",
        "print(df['point'].isnull().sum())"
      ],
      "metadata": {
        "colab": {
          "base_uri": "https://localhost:8080/"
        },
        "id": "HLPRCIpm13vm",
        "outputId": "68c20574-e2a1-4197-be57-664d41369b1e"
      },
      "execution_count": null,
      "outputs": [
        {
          "output_type": "stream",
          "name": "stdout",
          "text": [
            "73833\n",
            "73834\n",
            "73845\n",
            "73845\n",
            "73845\n"
          ]
        }
      ]
    },
    {
      "cell_type": "code",
      "source": [
        "df['longitude'] = df['longitude'].fillna(df['longitude'].median())\n",
        "df['latitude'] = df['latitude'].fillna(df['latitude'].median())\n",
        "#df['comm_name'] = df['comm_name'].fillna(df['comm_name'].mode()[0])\n",
        "#df['comm_code'] = df['comm_code'].fillna(df['comm_code'].mode()[0])\n",
        "df['point'] = df['point'].fillna(df['point'].mode()[0])\n",
        "#df['new_agencyResponsible'] = df['new_agencyResponsible'].fillna(df['new_agencyResponsible'].mode()[0])\n",
        "print(df['longitude'].isnull().sum(),df['latitude'].isnull().sum(),df['point'].isnull().sum())"
      ],
      "metadata": {
        "colab": {
          "base_uri": "https://localhost:8080/"
        },
        "id": "j788_VlVLk_e",
        "outputId": "0b379147-9c99-43b1-95d5-f36d3652a6c0"
      },
      "execution_count": null,
      "outputs": [
        {
          "output_type": "stream",
          "name": "stdout",
          "text": [
            "0 0 0\n"
          ]
        }
      ]
    },
    {
      "cell_type": "markdown",
      "source": [
        "## Adding Sector ('SOUTHEAST', 'EAST', 'CENTRE', 'NORTH', 'SOUTH', 'NORTHWEST','NORTHEAST', 'WEST') Column for each community"
      ],
      "metadata": {
        "id": "HFz0GmFYiXGF"
      }
    },
    {
      "cell_type": "code",
      "source": [
        "community_data=pd.read_csv(\"/content/drive/MyDrive/311SerivceRequest_dataset/Community_Points_20250208.csv\")\n",
        "print(community_data['COMM_CODE'].isnull().sum(),community_data['SECTOR'].isnull().sum())"
      ],
      "metadata": {
        "colab": {
          "base_uri": "https://localhost:8080/"
        },
        "id": "hMbMe-BI13yX",
        "outputId": "08ae49bc-1c00-4e8d-b6a2-b39f892344d3"
      },
      "execution_count": null,
      "outputs": [
        {
          "output_type": "stream",
          "name": "stdout",
          "text": [
            "0 0\n"
          ]
        }
      ]
    },
    {
      "cell_type": "code",
      "source": [
        "community_data.info()"
      ],
      "metadata": {
        "colab": {
          "base_uri": "https://localhost:8080/"
        },
        "id": "Nrpti4x8sI6b",
        "outputId": "006de139-e6f5-47ef-e6c3-1a9e91ddf613"
      },
      "execution_count": null,
      "outputs": [
        {
          "output_type": "stream",
          "name": "stdout",
          "text": [
            "<class 'pandas.core.frame.DataFrame'>\n",
            "RangeIndex: 312 entries, 0 to 311\n",
            "Data columns (total 10 columns):\n",
            " #   Column          Non-Null Count  Dtype  \n",
            "---  ------          --------------  -----  \n",
            " 0   CLASS           312 non-null    object \n",
            " 1   CLASS_CODE      312 non-null    int64  \n",
            " 2   COMM_CODE       312 non-null    object \n",
            " 3   NAME            312 non-null    object \n",
            " 4   SECTOR          312 non-null    object \n",
            " 5   SRG             251 non-null    object \n",
            " 6   COMM_STRUCTURE  310 non-null    object \n",
            " 7   longitude       312 non-null    float64\n",
            " 8   latitude        312 non-null    float64\n",
            " 9   POINT           312 non-null    object \n",
            "dtypes: float64(2), int64(1), object(7)\n",
            "memory usage: 24.5+ KB\n"
          ]
        }
      ]
    },
    {
      "cell_type": "code",
      "source": [
        "def merge_community_sector(main_data, community_data):\n",
        "    # Rename the relevant columns in the community_data for clarity and consistency\n",
        "    community_data.rename(columns={'COMM_CODE': 'comm_code', 'SECTOR': 'community_sector'}, inplace=True)\n",
        "\n",
        "    # Merge the datasets based on the 'comm_code'\n",
        "    merged_data = main_data.merge(community_data[['comm_code', 'community_sector']], on='comm_code', how='left')\n",
        "\n",
        "    return merged_data\n",
        "\n",
        "df = merge_community_sector(df, community_data)\n",
        "print(df.info())"
      ],
      "metadata": {
        "colab": {
          "base_uri": "https://localhost:8080/"
        },
        "id": "hBt_ETUF1312",
        "outputId": "c90ecc9a-18dd-493e-cd95-003fbe7c751b"
      },
      "execution_count": null,
      "outputs": [
        {
          "output_type": "stream",
          "name": "stdout",
          "text": [
            "<class 'pandas.core.frame.DataFrame'>\n",
            "RangeIndex: 1062842 entries, 0 to 1062841\n",
            "Data columns (total 32 columns):\n",
            " #   Column              Non-Null Count    Dtype                           \n",
            "---  ------              --------------    -----                           \n",
            " 0   service_request_id  1062842 non-null  object                          \n",
            " 1   requested_date      1062842 non-null  datetime64[ns]                  \n",
            " 2   updated_date        1062842 non-null  datetime64[ns]                  \n",
            " 3   closed_date         1030749 non-null  datetime64[ns]                  \n",
            " 4   status_description  1062842 non-null  object                          \n",
            " 5   source              1062842 non-null  object                          \n",
            " 6   service_name        1062842 non-null  object                          \n",
            " 7   agency_responsible  1062842 non-null  object                          \n",
            " 8   comm_code           989008 non-null   object                          \n",
            " 9   comm_name           989009 non-null   object                          \n",
            " 10  longitude           1062842 non-null  float64                         \n",
            " 11  latitude            1062842 non-null  float64                         \n",
            " 12  point               1062842 non-null  object                          \n",
            " 13  request_year        1062842 non-null  int32                           \n",
            " 14  request_month       1062842 non-null  int32                           \n",
            " 15  request_day         1062842 non-null  int32                           \n",
            " 16  update_year         1062842 non-null  int32                           \n",
            " 17  update_month        1062842 non-null  int32                           \n",
            " 18  update_day          1062842 non-null  int32                           \n",
            " 19  closed_year         1062842 non-null  Int32                           \n",
            " 20  closed_month        1062842 non-null  Int32                           \n",
            " 21  closed_day          1062842 non-null  Int32                           \n",
            " 22  closing_delay       1030749 non-null  Int64                           \n",
            " 23  duplicate_request   1062842 non-null  object                          \n",
            " 24  new_requested_date  1062842 non-null  datetime64[ns, America/Edmonton]\n",
            " 25  Season              1062842 non-null  object                          \n",
            " 26  modified_status     1062842 non-null  object                          \n",
            " 27  agency_division     1062842 non-null  object                          \n",
            " 28  agency_subdivision  1062842 non-null  object                          \n",
            " 29  service_category    1062842 non-null  object                          \n",
            " 30  service_request     1062842 non-null  object                          \n",
            " 31  community_sector    987602 non-null   object                          \n",
            "dtypes: Int32(3), Int64(1), datetime64[ns, America/Edmonton](1), datetime64[ns](3), float64(2), int32(6), object(16)\n",
            "memory usage: 227.0+ MB\n",
            "None\n"
          ]
        }
      ]
    },
    {
      "cell_type": "code",
      "source": [
        "null_rows = df[df['community_sector'].isnull()]\n",
        "null_comm_codes = null_rows['comm_code'].unique()\n",
        "print(null_comm_codes)\n",
        "comm_codes_to_check = ['12I', 'ABT', '01I', '11A', 'ABR']\n",
        "def check_comm_codes_for_sector(df, comm_codes):\n",
        "    filtered_data = df[df['comm_code'].isin(comm_codes)]\n",
        "    sector_mapping = filtered_data[['comm_code', 'community_sector']]\n",
        "\n",
        "    return sector_mapping\n",
        "sector_mapping = check_comm_codes_for_sector(df, comm_codes_to_check)\n",
        "sector_mapping.info()\n"
      ],
      "metadata": {
        "colab": {
          "base_uri": "https://localhost:8080/"
        },
        "id": "jIWCS2rMjjew",
        "outputId": "32ce5b19-a65c-4a2e-ba22-e2b9c4b214b6"
      },
      "execution_count": null,
      "outputs": [
        {
          "output_type": "stream",
          "name": "stdout",
          "text": [
            "[nan '12I' 'ABT' '01I' '11A' 'ABR']\n",
            "<class 'pandas.core.frame.DataFrame'>\n",
            "Index: 1406 entries, 26 to 882478\n",
            "Data columns (total 2 columns):\n",
            " #   Column            Non-Null Count  Dtype \n",
            "---  ------            --------------  ----- \n",
            " 0   comm_code         1406 non-null   object\n",
            " 1   community_sector  0 non-null      object\n",
            "dtypes: object(2)\n",
            "memory usage: 33.0+ KB\n"
          ]
        }
      ]
    },
    {
      "cell_type": "code",
      "source": [
        "print(df['comm_code'].isnull().sum(),df['community_sector'].isnull().sum())"
      ],
      "metadata": {
        "colab": {
          "base_uri": "https://localhost:8080/"
        },
        "id": "OgwSskwuYSHc",
        "outputId": "54f758a1-97da-4e42-f15f-ec0d2d30074f"
      },
      "execution_count": null,
      "outputs": [
        {
          "output_type": "stream",
          "name": "stdout",
          "text": [
            "73834 75240\n"
          ]
        }
      ]
    },
    {
      "cell_type": "code",
      "source": [
        "df['community_sector'].unique()"
      ],
      "metadata": {
        "colab": {
          "base_uri": "https://localhost:8080/"
        },
        "id": "KbF5i1buqj38",
        "outputId": "ccba6afa-add2-49b0-e5c7-44a2dd884588"
      },
      "execution_count": null,
      "outputs": [
        {
          "output_type": "execute_result",
          "data": {
            "text/plain": [
              "array([nan, 'SOUTHEAST', 'EAST', 'CENTRE', 'NORTH', 'SOUTH', 'NORTHWEST',\n",
              "       'NORTHEAST', 'WEST'], dtype=object)"
            ]
          },
          "metadata": {},
          "execution_count": 100
        }
      ]
    },
    {
      "cell_type": "code",
      "source": [
        "df.loc[(df['comm_code'] == '12I') & (df['community_sector'].isnull()), 'community_sector'] = 'SOUTHEAST'\n",
        "df.loc[(df['comm_code'] == '01I') & (df['community_sector'].isnull()), 'community_sector'] = 'WEST'\n",
        "df.loc[(df['comm_code'] == 'ABT') & (df['community_sector'].isnull()), 'community_sector'] = 'NORTHWEST'\n",
        "df.loc[(df['comm_code'] == 'ABR') & (df['community_sector'].isnull()), 'community_sector'] = 'NORTHWEST'\n",
        "#11 A, South west and south east\n",
        "df.loc[(df['comm_name'] == '05E') & (df['comm_code'].isnull()), 'comm_code'] = '05E'\n",
        "print(df['comm_code'].isnull().sum(),df['community_sector'].isnull().sum())"
      ],
      "metadata": {
        "colab": {
          "base_uri": "https://localhost:8080/"
        },
        "id": "iwvK9VY58Fi-",
        "outputId": "e157430c-5c3d-4a72-c8c7-04d15a60ba6a"
      },
      "execution_count": null,
      "outputs": [
        {
          "output_type": "stream",
          "name": "stdout",
          "text": [
            "73833 73835\n"
          ]
        }
      ]
    },
    {
      "cell_type": "markdown",
      "source": [
        "Before sector filled:<br>\n",
        "Total null values in comm_code is 73834, for community_sector was 75240.<br>\n",
        "After filling null of comm_code ['12I' 'ABT' '01I' 'ABR'] the null of sector reduced to 73835 (which is reduced by 1405). couldn't find 11A's SECTOR and only one request was pulled by them.\n"
      ],
      "metadata": {
        "id": "KfoUIIAMYr_w"
      }
    },
    {
      "cell_type": "code",
      "source": [
        "df.to_csv(\"dataVisual_311data.csv\", index=False)"
      ],
      "metadata": {
        "id": "IbU9T0Qq5flH"
      },
      "execution_count": null,
      "outputs": []
    },
    {
      "cell_type": "code",
      "source": [
        "df.info()"
      ],
      "metadata": {
        "colab": {
          "base_uri": "https://localhost:8080/"
        },
        "id": "1bqo6ydKpcax",
        "outputId": "787c881b-ac5a-472f-87d6-801001631f55"
      },
      "execution_count": null,
      "outputs": [
        {
          "output_type": "stream",
          "name": "stdout",
          "text": [
            "<class 'pandas.core.frame.DataFrame'>\n",
            "RangeIndex: 1062842 entries, 0 to 1062841\n",
            "Data columns (total 31 columns):\n",
            " #   Column              Non-Null Count    Dtype                           \n",
            "---  ------              --------------    -----                           \n",
            " 0   service_request_id  1062842 non-null  object                          \n",
            " 1   requested_date      1062842 non-null  datetime64[ns]                  \n",
            " 2   updated_date        1062842 non-null  datetime64[ns]                  \n",
            " 3   closed_date         1030749 non-null  datetime64[ns]                  \n",
            " 4   status_description  1062842 non-null  object                          \n",
            " 5   source              1062842 non-null  object                          \n",
            " 6   service_name        1062842 non-null  object                          \n",
            " 7   agency_responsible  1062842 non-null  object                          \n",
            " 8   comm_code           989008 non-null   object                          \n",
            " 9   comm_name           989009 non-null   object                          \n",
            " 10  longitude           1062842 non-null  float64                         \n",
            " 11  latitude            1062842 non-null  float64                         \n",
            " 12  point               1062842 non-null  object                          \n",
            " 13  request_year        1062842 non-null  int32                           \n",
            " 14  request_month       1062842 non-null  int32                           \n",
            " 15  request_day         1062842 non-null  int32                           \n",
            " 16  update_year         1062842 non-null  int32                           \n",
            " 17  update_month        1062842 non-null  int32                           \n",
            " 18  update_day          1062842 non-null  int32                           \n",
            " 19  closed_year         1062842 non-null  Int32                           \n",
            " 20  closed_month        1062842 non-null  Int32                           \n",
            " 21  closed_day          1062842 non-null  Int32                           \n",
            " 22  closing_delay       1030749 non-null  Int64                           \n",
            " 23  duplicate_request   1062842 non-null  object                          \n",
            " 24  new_requested_date  1062842 non-null  datetime64[ns, America/Edmonton]\n",
            " 25  Season              1062842 non-null  object                          \n",
            " 26  modified_status     1062842 non-null  object                          \n",
            " 27  agency_division     1062842 non-null  object                          \n",
            " 28  agency_subdivision  1062842 non-null  object                          \n",
            " 29  service_category    1062842 non-null  object                          \n",
            " 30  service_request     1062842 non-null  object                          \n",
            "dtypes: Int32(3), Int64(1), datetime64[ns, America/Edmonton](1), datetime64[ns](3), float64(2), int32(6), object(15)\n",
            "memory usage: 218.9+ MB\n"
          ]
        }
      ]
    },
    {
      "cell_type": "code",
      "source": [],
      "metadata": {
        "id": "7PMhveDcsXkH"
      },
      "execution_count": null,
      "outputs": []
    }
  ]
}
